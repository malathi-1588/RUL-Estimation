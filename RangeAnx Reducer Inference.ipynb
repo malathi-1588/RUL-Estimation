{
 "cells": [
  {
   "cell_type": "code",
   "execution_count": 1,
   "id": "28f2e3df",
   "metadata": {
    "execution": {
     "iopub.execute_input": "2021-07-22T04:44:58.633904Z",
     "iopub.status.busy": "2021-07-22T04:44:58.632628Z",
     "iopub.status.idle": "2021-07-22T04:44:58.652037Z",
     "shell.execute_reply": "2021-07-22T04:44:58.652614Z",
     "shell.execute_reply.started": "2021-07-21T14:55:52.119771Z"
    },
    "papermill": {
     "duration": 0.051931,
     "end_time": "2021-07-22T04:44:58.652915",
     "exception": false,
     "start_time": "2021-07-22T04:44:58.600984",
     "status": "completed"
    },
    "tags": []
   },
   "outputs": [],
   "source": [
    "%config Completer.use_jedi = False"
   ]
  },
  {
   "cell_type": "code",
   "execution_count": 2,
   "id": "0cb62f4e",
   "metadata": {
    "execution": {
     "iopub.execute_input": "2021-07-22T04:44:58.709412Z",
     "iopub.status.busy": "2021-07-22T04:44:58.708761Z",
     "iopub.status.idle": "2021-07-22T04:46:17.516608Z",
     "shell.execute_reply": "2021-07-22T04:46:17.515963Z",
     "shell.execute_reply.started": "2021-07-21T14:55:52.144381Z"
    },
    "papermill": {
     "duration": 78.83729,
     "end_time": "2021-07-22T04:46:17.516783",
     "exception": false,
     "start_time": "2021-07-22T04:44:58.679493",
     "status": "completed"
    },
    "tags": []
   },
   "outputs": [
    {
     "name": "stdout",
     "output_type": "stream",
     "text": [
      "Name: tensorflow\n",
      "Version: 2.8.2\n",
      "Summary: TensorFlow is an open source machine learning framework for everyone.\n",
      "Home-page: https://www.tensorflow.org/\n",
      "Author: Google Inc.\n",
      "Author-email: packages@tensorflow.org\n",
      "License: Apache 2.0\n",
      "Location: c:\\users\\vinod\\miniconda3\\envs\\mini\\lib\\site-packages\n",
      "Requires: absl-py, astunparse, flatbuffers, gast, google-pasta, grpcio, h5py, keras, keras-preprocessing, libclang, numpy, opt-einsum, protobuf, setuptools, six, tensorboard, tensorflow-estimator, tensorflow-io-gcs-filesystem, termcolor, typing-extensions, wrapt\n",
      "Required-by: \n"
     ]
    },
    {
     "name": "stderr",
     "output_type": "stream",
     "text": [
      "'wget' is not recognized as an internal or external command,\n",
      "operable program or batch file.\n",
      "'unzip' is not recognized as an internal or external command,\n",
      "operable program or batch file.\n"
     ]
    }
   ],
   "source": [
    "%matplotlib inline\n",
    "!pip show tensorflow\n",
    "!wget -cq https://ti.arc.nasa.gov/c/5 -O naza.zip\n",
    "!unzip -qqo naza.zip -d battery_data"
   ]
  },
  {
   "cell_type": "markdown",
   "id": "c5df5d06",
   "metadata": {
    "papermill": {
     "duration": 0.026298,
     "end_time": "2021-07-22T04:46:17.570769",
     "exception": false,
     "start_time": "2021-07-22T04:46:17.544471",
     "status": "completed"
    },
    "tags": []
   },
   "source": [
    "# Library import\n",
    "In this part, all the necessary libraries for the treatment of the dataset are important."
   ]
  },
  {
   "cell_type": "code",
   "execution_count": 3,
   "id": "17122aa5",
   "metadata": {
    "execution": {
     "iopub.execute_input": "2021-07-22T04:46:17.630168Z",
     "iopub.status.busy": "2021-07-22T04:46:17.629472Z",
     "iopub.status.idle": "2021-07-22T04:46:18.992408Z",
     "shell.execute_reply": "2021-07-22T04:46:18.991834Z",
     "shell.execute_reply.started": "2021-07-21T14:56:03.29303Z"
    },
    "papermill": {
     "duration": 1.395162,
     "end_time": "2021-07-22T04:46:18.992590",
     "exception": false,
     "start_time": "2021-07-22T04:46:17.597428",
     "status": "completed"
    },
    "tags": []
   },
   "outputs": [],
   "source": [
    "import datetime\n",
    "import numpy as np\n",
    "import pandas as pd\n",
    "from scipy.io import loadmat\n",
    "from sklearn.preprocessing import MinMaxScaler\n",
    "from sklearn.metrics import mean_squared_error\n",
    "from sklearn import metrics\n",
    "import matplotlib.pyplot as plt\n",
    "import seaborn as sns\n",
    "import itertools"
   ]
  },
  {
   "cell_type": "markdown",
   "id": "06f7e9b7",
   "metadata": {
    "papermill": {
     "duration": 0.026538,
     "end_time": "2021-07-22T04:46:19.048668",
     "exception": false,
     "start_time": "2021-07-22T04:46:19.022130",
     "status": "completed"
    },
    "tags": []
   },
   "source": [
    "# Loading the dataset into memory\n",
    "According to the README of the dataset, the data is stored in several \".mat\" files, each file corresponds to a specific battery and the data structure of each file is as follows:"
   ]
  },
  {
   "cell_type": "markdown",
   "id": "930b556c",
   "metadata": {
    "papermill": {
     "duration": 0.026498,
     "end_time": "2021-07-22T04:46:19.102121",
     "exception": false,
     "start_time": "2021-07-22T04:46:19.075623",
     "status": "completed"
    },
    "tags": []
   },
   "source": [
    "```\n",
    "Data Structure:\n",
    "cycle:\ttop level structure array containing the charge, discharge and impedance operations\n",
    "\ttype: \toperation  type, can be charge, discharge or impedance\n",
    "\tambient_temperature:\tambient temperature (degree C)\n",
    "\ttime: \tthe date and time of the start of the cycle, in MATLAB  date vector format\n",
    "\tdata:\tdata structure containing the measurements\n",
    "\t   for charge the fields are:\n",
    "\t\tVoltage_measured: \tBattery terminal voltage (Volts)\n",
    "\t\tCurrent_measured:\tBattery output current (Amps)\n",
    "\t\tTemperature_measured: \tBattery temperature (degree C)\n",
    "\t\tCurrent_charge:\t\tCurrent measured at charger (Amps)\n",
    "\t\tVoltage_charge:\t\tVoltage measured at charger (Volts)\n",
    "\t\tTime:\t\t\tTime vector for the cycle (secs)\n",
    "\t   for discharge the fields are:\n",
    "\t\tVoltage_measured: \tBattery terminal voltage (Volts)\n",
    "\t\tCurrent_measured:\tBattery output current (Amps)\n",
    "\t\tTemperature_measured: \tBattery temperature (degree C)\n",
    "\t\tCurrent_charge:\t\tCurrent measured at load (Amps)\n",
    "\t\tVoltage_charge:\t\tVoltage measured at load (Volts)\n",
    "\t\tTime:\t\t\tTime vector for the cycle (secs)\n",
    "\t\tCapacity:\t\tBattery capacity (Ahr) for discharge till 2.7V \n",
    "\t   for impedance the fields are:\n",
    "\t\tSense_current:\t\tCurrent in sense branch (Amps)\n",
    "\t\tBattery_current:\tCurrent in battery branch (Amps)\n",
    "\t\tCurrent_ratio:\t\tRatio of the above currents \n",
    "\t\tBattery_impedance:\tBattery impedance (Ohms) computed from raw data\n",
    "\t\tRectified_impedance:\tCalibrated and smoothed battery impedance (Ohms) \n",
    "\t\tRe:\t\t\tEstimated electrolyte resistance (Ohms)\n",
    "\t\tRct:\t\t\tEstimated charge transfer resistance (Ohms)\n",
    "\n",
    "```"
   ]
  },
  {
   "cell_type": "markdown",
   "id": "ab11a511",
   "metadata": {
    "papermill": {
     "duration": 0.026598,
     "end_time": "2021-07-22T04:46:19.156351",
     "exception": false,
     "start_time": "2021-07-22T04:46:19.129753",
     "status": "completed"
    },
    "tags": []
   },
   "source": [
    "For the Deep Learning model proposed in [1] it is only necessary to collect the data related to the discharge of the battery, for this a function is created in Python that is in charge of reading this data from the \".mat\" file and storing it in memory in two pandas DataFrame for later access. After loading the dataset, a description of the data is made using panda functions to verify if the data loading was correct."
   ]
  },
  {
   "cell_type": "code",
   "execution_count": 4,
   "id": "60a21a36",
   "metadata": {
    "execution": {
     "iopub.execute_input": "2021-07-22T04:46:19.230224Z",
     "iopub.status.busy": "2021-07-22T04:46:19.226477Z",
     "iopub.status.idle": "2021-07-22T04:46:20.537839Z",
     "shell.execute_reply": "2021-07-22T04:46:20.537155Z",
     "shell.execute_reply.started": "2021-07-21T14:56:04.585329Z"
    },
    "papermill": {
     "duration": 1.35471,
     "end_time": "2021-07-22T04:46:20.537986",
     "exception": false,
     "start_time": "2021-07-22T04:46:19.183276",
     "status": "completed"
    },
    "tags": []
   },
   "outputs": [
    {
     "name": "stdout",
     "output_type": "stream",
     "text": [
      "Total data in dataset:  616\n",
      "[1, 24, datetime.datetime(2008, 4, 2, 15, 25, 41), 1.8564874208181574, 4.191491807505295, -0.004901589207462691, 24.330033885570543, -0.0006, 0.0, 0.0]\n",
      "   cycle  ambient_temperature            datetime  capacity  voltage_measured  \\\n",
      "0      1                   24 2008-04-02 15:25:41  1.856487          4.191492   \n",
      "1      1                   24 2008-04-02 15:25:41  1.856487          4.190749   \n",
      "2      1                   24 2008-04-02 15:25:41  1.856487          3.974871   \n",
      "3      1                   24 2008-04-02 15:25:41  1.856487          3.951717   \n",
      "4      1                   24 2008-04-02 15:25:41  1.856487          3.934352   \n",
      "\n",
      "   current_measured  temperature_measured  current_load  voltage_load    time  \n",
      "0         -0.004902             24.330034       -0.0006         0.000   0.000  \n",
      "1         -0.001478             24.325993       -0.0006         4.206  16.781  \n",
      "2         -2.012528             24.389085       -1.9982         3.062  35.703  \n",
      "3         -2.013979             24.544752       -1.9982         3.030  53.781  \n",
      "4         -2.011144             24.731385       -1.9982         3.011  71.922  \n"
     ]
    },
    {
     "data": {
      "text/html": [
       "<div>\n",
       "<style scoped>\n",
       "    .dataframe tbody tr th:only-of-type {\n",
       "        vertical-align: middle;\n",
       "    }\n",
       "\n",
       "    .dataframe tbody tr th {\n",
       "        vertical-align: top;\n",
       "    }\n",
       "\n",
       "    .dataframe thead th {\n",
       "        text-align: right;\n",
       "    }\n",
       "</style>\n",
       "<table border=\"1\" class=\"dataframe\">\n",
       "  <thead>\n",
       "    <tr style=\"text-align: right;\">\n",
       "      <th></th>\n",
       "      <th>cycle</th>\n",
       "      <th>ambient_temperature</th>\n",
       "      <th>capacity</th>\n",
       "      <th>voltage_measured</th>\n",
       "      <th>current_measured</th>\n",
       "      <th>temperature_measured</th>\n",
       "      <th>current_load</th>\n",
       "      <th>voltage_load</th>\n",
       "      <th>time</th>\n",
       "    </tr>\n",
       "  </thead>\n",
       "  <tbody>\n",
       "    <tr>\n",
       "      <th>count</th>\n",
       "      <td>50285.000000</td>\n",
       "      <td>50285.0</td>\n",
       "      <td>50285.000000</td>\n",
       "      <td>50285.000000</td>\n",
       "      <td>50285.000000</td>\n",
       "      <td>50285.000000</td>\n",
       "      <td>50285.000000</td>\n",
       "      <td>50285.000000</td>\n",
       "      <td>50285.000000</td>\n",
       "    </tr>\n",
       "    <tr>\n",
       "      <th>mean</th>\n",
       "      <td>88.125942</td>\n",
       "      <td>24.0</td>\n",
       "      <td>1.560345</td>\n",
       "      <td>3.515268</td>\n",
       "      <td>-1.806032</td>\n",
       "      <td>32.816991</td>\n",
       "      <td>1.362700</td>\n",
       "      <td>2.308406</td>\n",
       "      <td>1546.208924</td>\n",
       "    </tr>\n",
       "    <tr>\n",
       "      <th>std</th>\n",
       "      <td>45.699687</td>\n",
       "      <td>0.0</td>\n",
       "      <td>0.182380</td>\n",
       "      <td>0.231778</td>\n",
       "      <td>0.610502</td>\n",
       "      <td>3.987515</td>\n",
       "      <td>1.313698</td>\n",
       "      <td>0.800300</td>\n",
       "      <td>906.640295</td>\n",
       "    </tr>\n",
       "    <tr>\n",
       "      <th>min</th>\n",
       "      <td>1.000000</td>\n",
       "      <td>24.0</td>\n",
       "      <td>1.287453</td>\n",
       "      <td>2.455679</td>\n",
       "      <td>-2.029098</td>\n",
       "      <td>23.214802</td>\n",
       "      <td>-1.998400</td>\n",
       "      <td>0.000000</td>\n",
       "      <td>0.000000</td>\n",
       "    </tr>\n",
       "    <tr>\n",
       "      <th>25%</th>\n",
       "      <td>50.000000</td>\n",
       "      <td>24.0</td>\n",
       "      <td>1.386229</td>\n",
       "      <td>3.399384</td>\n",
       "      <td>-2.013415</td>\n",
       "      <td>30.019392</td>\n",
       "      <td>1.998000</td>\n",
       "      <td>2.388000</td>\n",
       "      <td>768.563000</td>\n",
       "    </tr>\n",
       "    <tr>\n",
       "      <th>50%</th>\n",
       "      <td>88.000000</td>\n",
       "      <td>24.0</td>\n",
       "      <td>1.538237</td>\n",
       "      <td>3.511664</td>\n",
       "      <td>-2.012312</td>\n",
       "      <td>32.828944</td>\n",
       "      <td>1.998200</td>\n",
       "      <td>2.533000</td>\n",
       "      <td>1537.031000</td>\n",
       "    </tr>\n",
       "    <tr>\n",
       "      <th>75%</th>\n",
       "      <td>127.000000</td>\n",
       "      <td>24.0</td>\n",
       "      <td>1.746871</td>\n",
       "      <td>3.660903</td>\n",
       "      <td>-2.011052</td>\n",
       "      <td>35.920887</td>\n",
       "      <td>1.998200</td>\n",
       "      <td>2.690000</td>\n",
       "      <td>2305.984000</td>\n",
       "    </tr>\n",
       "    <tr>\n",
       "      <th>max</th>\n",
       "      <td>168.000000</td>\n",
       "      <td>24.0</td>\n",
       "      <td>1.856487</td>\n",
       "      <td>4.222920</td>\n",
       "      <td>0.007496</td>\n",
       "      <td>41.450232</td>\n",
       "      <td>1.998400</td>\n",
       "      <td>4.238000</td>\n",
       "      <td>3690.234000</td>\n",
       "    </tr>\n",
       "  </tbody>\n",
       "</table>\n",
       "</div>"
      ],
      "text/plain": [
       "              cycle  ambient_temperature      capacity  voltage_measured  \\\n",
       "count  50285.000000              50285.0  50285.000000      50285.000000   \n",
       "mean      88.125942                 24.0      1.560345          3.515268   \n",
       "std       45.699687                  0.0      0.182380          0.231778   \n",
       "min        1.000000                 24.0      1.287453          2.455679   \n",
       "25%       50.000000                 24.0      1.386229          3.399384   \n",
       "50%       88.000000                 24.0      1.538237          3.511664   \n",
       "75%      127.000000                 24.0      1.746871          3.660903   \n",
       "max      168.000000                 24.0      1.856487          4.222920   \n",
       "\n",
       "       current_measured  temperature_measured  current_load  voltage_load  \\\n",
       "count      50285.000000          50285.000000  50285.000000  50285.000000   \n",
       "mean          -1.806032             32.816991      1.362700      2.308406   \n",
       "std            0.610502              3.987515      1.313698      0.800300   \n",
       "min           -2.029098             23.214802     -1.998400      0.000000   \n",
       "25%           -2.013415             30.019392      1.998000      2.388000   \n",
       "50%           -2.012312             32.828944      1.998200      2.533000   \n",
       "75%           -2.011052             35.920887      1.998200      2.690000   \n",
       "max            0.007496             41.450232      1.998400      4.238000   \n",
       "\n",
       "               time  \n",
       "count  50285.000000  \n",
       "mean    1546.208924  \n",
       "std      906.640295  \n",
       "min        0.000000  \n",
       "25%      768.563000  \n",
       "50%     1537.031000  \n",
       "75%     2305.984000  \n",
       "max     3690.234000  "
      ]
     },
     "execution_count": 4,
     "metadata": {},
     "output_type": "execute_result"
    }
   ],
   "source": [
    "def load_data(battery):\n",
    "  mat = loadmat(battery + '.mat')\n",
    "  print('Total data in dataset: ', len(mat[battery][0, 0]['cycle'][0]))\n",
    "  counter = 0\n",
    "  dataset = []\n",
    "  capacity_data = []\n",
    "  \n",
    "  for i in range(len(mat[battery][0, 0]['cycle'][0])):\n",
    "    row = mat[battery][0, 0]['cycle'][0, i]\n",
    "    if row['type'][0] == 'discharge':\n",
    "      ambient_temperature = row['ambient_temperature'][0][0]\n",
    "      date_time = datetime.datetime(int(row['time'][0][0]),\n",
    "                               int(row['time'][0][1]),\n",
    "                               int(row['time'][0][2]),\n",
    "                               int(row['time'][0][3]),\n",
    "                               int(row['time'][0][4])) + datetime.timedelta(seconds=int(row['time'][0][5]))\n",
    "      data = row['data']\n",
    "      capacity = data[0][0]['Capacity'][0][0]\n",
    "      for j in range(len(data[0][0]['Voltage_measured'][0])):\n",
    "        voltage_measured = data[0][0]['Voltage_measured'][0][j]\n",
    "        current_measured = data[0][0]['Current_measured'][0][j]\n",
    "        temperature_measured = data[0][0]['Temperature_measured'][0][j]\n",
    "        current_load = data[0][0]['Current_load'][0][j]\n",
    "        voltage_load = data[0][0]['Voltage_load'][0][j]\n",
    "        time = data[0][0]['Time'][0][j]\n",
    "        dataset.append([counter + 1, ambient_temperature, date_time, capacity,\n",
    "                        voltage_measured, current_measured,\n",
    "                        temperature_measured, current_load,\n",
    "                        voltage_load, time])\n",
    "      capacity_data.append([counter + 1, ambient_temperature, date_time, capacity])\n",
    "      counter = counter + 1\n",
    "  print(dataset[0])\n",
    "  return [pd.DataFrame(data=dataset,\n",
    "                       columns=['cycle', 'ambient_temperature', 'datetime',\n",
    "                                'capacity', 'voltage_measured',\n",
    "                                'current_measured', 'temperature_measured',\n",
    "                                'current_load', 'voltage_load', 'time']),\n",
    "          pd.DataFrame(data=capacity_data,\n",
    "                       columns=['cycle', 'ambient_temperature', 'datetime',\n",
    "                                'capacity'])]\n",
    "dataset, capacity = load_data('B0005')\n",
    "pd.set_option('display.max_columns', 10)\n",
    "print(dataset.head())\n",
    "dataset.describe()"
   ]
  },
  {
   "cell_type": "markdown",
   "id": "0daf1c1a",
   "metadata": {
    "papermill": {
     "duration": 0.027799,
     "end_time": "2021-07-22T04:46:20.594082",
     "exception": false,
     "start_time": "2021-07-22T04:46:20.566283",
     "status": "completed"
    },
    "tags": []
   },
   "source": [
    "The following graph shows the aging process of the battery as the charge cycles progress. The horizontal line represents the threshold related to what can be considered the end of the battery's life cycle."
   ]
  },
  {
   "cell_type": "code",
   "execution_count": 5,
   "id": "40ebb0d9",
   "metadata": {
    "execution": {
     "iopub.execute_input": "2021-07-22T04:46:20.658266Z",
     "iopub.status.busy": "2021-07-22T04:46:20.657439Z",
     "iopub.status.idle": "2021-07-22T04:46:20.967711Z",
     "shell.execute_reply": "2021-07-22T04:46:20.967106Z",
     "shell.execute_reply.started": "2021-07-21T14:56:05.914857Z"
    },
    "papermill": {
     "duration": 0.345743,
     "end_time": "2021-07-22T04:46:20.967861",
     "exception": false,
     "start_time": "2021-07-22T04:46:20.622118",
     "status": "completed"
    },
    "tags": []
   },
   "outputs": [
    {
     "data": {
      "text/plain": [
       "Text(0.5, 1.0, 'Discharge B0005')"
      ]
     },
     "execution_count": 5,
     "metadata": {},
     "output_type": "execute_result"
    },
    {
     "data": {
      "image/png": "[encoded data removed]",
      "text/plain": [
       "<Figure size 1200x800 with 1 Axes>"
      ]
     },
     "metadata": {},
     "output_type": "display_data"
    }
   ],
   "source": [
    "plot_df = capacity.loc[(capacity['cycle']>=1),['cycle','capacity']]\n",
    "sns.set_style(\"darkgrid\")\n",
    "plt.figure(figsize=(12, 8))\n",
    "plt.plot(plot_df['cycle'], plot_df['capacity'])\n",
    "#Draw threshold\n",
    "plt.plot([0.,len(capacity)], [1.4, 1.4])\n",
    "plt.ylabel('Capacity')\n",
    "# make x-axis ticks legible\n",
    "adf = plt.gca().get_xaxis().get_major_formatter()\n",
    "plt.xlabel('cycle')\n",
    "plt.title('Discharge B0005')"
   ]
  },
  {
   "cell_type": "markdown",
   "id": "f2c91219",
   "metadata": {
    "papermill": {
     "duration": 0.029664,
     "end_time": "2021-07-22T04:46:21.027604",
     "exception": false,
     "start_time": "2021-07-22T04:46:20.997940",
     "status": "completed"
    },
    "tags": []
   },
   "source": [
    "It is also necessary to calculate the SoH of the battery, since this is the data that will be predicted using the * deep learning * model."
   ]
  },
  {
   "cell_type": "code",
   "execution_count": 6,
   "id": "ad513dfc",
   "metadata": {
    "execution": {
     "iopub.execute_input": "2021-07-22T04:46:21.135730Z",
     "iopub.status.busy": "2021-07-22T04:46:21.129892Z",
     "iopub.status.idle": "2021-07-22T04:46:21.159849Z",
     "shell.execute_reply": "2021-07-22T04:46:21.159126Z",
     "shell.execute_reply.started": "2021-07-21T14:56:06.21875Z"
    },
    "papermill": {
     "duration": 0.101645,
     "end_time": "2021-07-22T04:46:21.160002",
     "exception": false,
     "start_time": "2021-07-22T04:46:21.058357",
     "status": "completed"
    },
    "tags": []
   },
   "outputs": [
    {
     "name": "stdout",
     "output_type": "stream",
     "text": [
      "   cycle            datetime  capacity       SoH\n",
      "0      1 2008-04-02 15:25:41  1.856487  1.000000\n",
      "1      2 2008-04-02 19:43:48  1.846327  0.994527\n",
      "2      3 2008-04-03 00:01:06  1.835349  0.988614\n",
      "3      4 2008-04-03 04:16:37  1.835263  0.988567\n",
      "4      5 2008-04-03 08:33:25  1.834646  0.988235\n"
     ]
    }
   ],
   "source": [
    "attrib=['cycle', 'datetime', 'capacity']\n",
    "dis_ele = capacity[attrib]\n",
    "C = dis_ele['capacity'][0]\n",
    "for i in range(len(dis_ele)):\n",
    "    dis_ele['SoH']=(dis_ele['capacity'])/C\n",
    "print(dis_ele.head(5))"
   ]
  },
  {
   "cell_type": "markdown",
   "id": "e2437855",
   "metadata": {
    "papermill": {
     "duration": 0.029976,
     "end_time": "2021-07-22T04:46:21.220480",
     "exception": false,
     "start_time": "2021-07-22T04:46:21.190504",
     "status": "completed"
    },
    "tags": []
   },
   "source": [
    "Similarly to what has been done previously, a graph of the SoH is made for each cycle, the horizontal line represents the threshold of 70% in which the battery already fulfills its life cycle and it is advisable to make the change."
   ]
  },
  {
   "cell_type": "code",
   "execution_count": 7,
   "id": "4d1b9991",
   "metadata": {
    "execution": {
     "iopub.execute_input": "2021-07-22T04:46:21.305481Z",
     "iopub.status.busy": "2021-07-22T04:46:21.288903Z",
     "iopub.status.idle": "2021-07-22T04:46:21.535452Z",
     "shell.execute_reply": "2021-07-22T04:46:21.534745Z",
     "shell.execute_reply.started": "2021-07-21T14:56:06.288338Z"
    },
    "papermill": {
     "duration": 0.284715,
     "end_time": "2021-07-22T04:46:21.535620",
     "exception": false,
     "start_time": "2021-07-22T04:46:21.250905",
     "status": "completed"
    },
    "tags": []
   },
   "outputs": [
    {
     "data": {
      "text/plain": [
       "Text(0.5, 1.0, 'Discharge B0005')"
      ]
     },
     "execution_count": 7,
     "metadata": {},
     "output_type": "execute_result"
    },
    {
     "data": {
      "image/png": "[encoded data removed]",
      "text/plain": [
       "<Figure size 800x500 with 1 Axes>"
      ]
     },
     "metadata": {},
     "output_type": "display_data"
    }
   ],
   "source": [
    "plot_df = dis_ele.loc[(dis_ele['cycle']>=1),['cycle','SoH']]\n",
    "sns.set_style(\"white\")\n",
    "plt.figure(figsize=(8, 5))\n",
    "plt.plot(plot_df['cycle'], plot_df['SoH'])\n",
    "#Draw threshold\n",
    "plt.plot([0.,len(capacity)], [0.70, 0.70])\n",
    "plt.ylabel('SOH')\n",
    "# make x-axis ticks legible\n",
    "adf = plt.gca().get_xaxis().get_major_formatter()\n",
    "plt.xlabel('cycle')\n",
    "plt.title('Discharge B0005')"
   ]
  },
  {
   "cell_type": "code",
   "execution_count": 8,
   "id": "bd824395",
   "metadata": {
    "execution": {
     "iopub.execute_input": "2021-07-22T04:46:22.401756Z",
     "iopub.status.busy": "2021-07-22T04:46:22.400854Z",
     "iopub.status.idle": "2021-07-22T04:46:28.276559Z",
     "shell.execute_reply": "2021-07-22T04:46:28.275812Z",
     "shell.execute_reply.started": "2021-07-21T14:56:07.159332Z"
    },
    "papermill": {
     "duration": 5.912746,
     "end_time": "2021-07-22T04:46:28.276711",
     "exception": false,
     "start_time": "2021-07-22T04:46:22.363965",
     "status": "completed"
    },
    "tags": []
   },
   "outputs": [],
   "source": [
    "import tensorflow as tf\n",
    "from tensorflow.keras.models import Sequential\n",
    "from tensorflow.keras.layers import Dense\n",
    "from tensorflow.keras.layers import Dropout\n",
    "from tensorflow.keras.layers import Flatten\n",
    "from tensorflow.keras.layers import LSTM\n",
    "from tensorflow.keras.optimizers import Adam"
   ]
  },
  {
   "cell_type": "markdown",
   "id": "cc44cd89",
   "metadata": {
    "papermill": {
     "duration": 0.677676,
     "end_time": "2021-07-22T04:48:26.558756",
     "exception": false,
     "start_time": "2021-07-22T04:48:25.881080",
     "status": "completed"
    },
    "tags": []
   },
   "source": [
    "# RUL estimation\n",
    "In the same way that was done for the estimation of SoH, the training and testing dataset is prepared, in this particular case the battery capacity data is used using the first data of the first 50 cycles to predict the capacity in the following cycles in such a way as to be able to know when the threshold of the battery is reached and estimate the remaining cycles to reach the End of Life of the battery"
   ]
  },
  {
   "cell_type": "code",
   "execution_count": 20,
   "id": "856b0b0c",
   "metadata": {
    "execution": {
     "iopub.execute_input": "2021-07-22T04:48:27.942312Z",
     "iopub.status.busy": "2021-07-22T04:48:27.941532Z",
     "iopub.status.idle": "2021-07-22T04:48:29.262524Z",
     "shell.execute_reply": "2021-07-22T04:48:29.261912Z",
     "shell.execute_reply.started": "2021-07-21T14:57:57.684156Z"
    },
    "papermill": {
     "duration": 2.0057,
     "end_time": "2021-07-22T04:48:29.262689",
     "exception": false,
     "start_time": "2021-07-22T04:48:27.256989",
     "status": "completed"
    },
    "tags": []
   },
   "outputs": [
    {
     "name": "stdout",
     "output_type": "stream",
     "text": [
      "Total data in dataset:  616\n",
      "[1, 24, datetime.datetime(2008, 4, 2, 15, 25, 41), 1.8564874208181574, 4.191491807505295, -0.004901589207462691, 24.330033885570543, -0.0006, 0.0, 0.0]\n"
     ]
    }
   ],
   "source": [
    "dataset_val, capacity_val = load_data('B0005')\n",
    "attrib=['cycle', 'datetime', 'capacity']\n",
    "dis_ele = capacity_val[attrib]\n",
    "rows=['cycle','capacity']\n",
    "dataset=dis_ele[rows]\n",
    "data_train=dataset[(dataset['cycle']<50)]\n",
    "data_set_train=data_train.iloc[:,1:2].values\n",
    "data_test=dataset[(dataset['cycle']>=50)]\n",
    "data_set_test=data_test.iloc[:,1:2].values\n",
    "\n",
    "sc=MinMaxScaler(feature_range=(0,1))\n",
    "data_set_train=sc.fit_transform(data_set_train)\n",
    "data_set_test=sc.transform(data_set_test)\n",
    "\n",
    "X_train=[]\n",
    "y_train=[]\n",
    "#take the last 10t to predict 10t+1\n",
    "for i in range(10,49):\n",
    "    X_train.append(data_set_train[i-10:i,0])\n",
    "    y_train.append(data_set_train[i,0])\n",
    "X_train,y_train=np.array(X_train),np.array(y_train)\n",
    " \n",
    "X_train=np.reshape(X_train,(X_train.shape[0],X_train.shape[1],1))"
   ]
  },
  {
   "cell_type": "markdown",
   "id": "e154d803",
   "metadata": {
    "papermill": {
     "duration": 0.681079,
     "end_time": "2021-07-22T04:48:30.621854",
     "exception": false,
     "start_time": "2021-07-22T04:48:29.940775",
     "status": "completed"
    },
    "tags": []
   },
   "source": [
    "In this section the model is trained, based on the proposal of [2] and making use of LSTM-type networks instead of standard neural networks."
   ]
  },
  {
   "cell_type": "code",
   "execution_count": 21,
   "id": "79ee2ef4",
   "metadata": {},
   "outputs": [
    {
     "name": "stdout",
     "output_type": "stream",
     "text": [
      "(39, 10, 1)\n"
     ]
    }
   ],
   "source": [
    "print(X_train.shape)"
   ]
  },
  {
   "cell_type": "code",
   "execution_count": 22,
   "id": "8a144880",
   "metadata": {
    "execution": {
     "iopub.execute_input": "2021-07-22T04:48:31.982130Z",
     "iopub.status.busy": "2021-07-22T04:48:31.981387Z",
     "iopub.status.idle": "2021-07-22T04:48:33.064373Z",
     "shell.execute_reply": "2021-07-22T04:48:33.063796Z",
     "shell.execute_reply.started": "2021-07-21T14:57:58.998379Z"
    },
    "papermill": {
     "duration": 1.766531,
     "end_time": "2021-07-22T04:48:33.064517",
     "exception": false,
     "start_time": "2021-07-22T04:48:31.297986",
     "status": "completed"
    },
    "tags": []
   },
   "outputs": [
    {
     "name": "stdout",
     "output_type": "stream",
     "text": [
      "Model: \"sequential_4\"\n",
      "_________________________________________________________________\n",
      " Layer (type)                Output Shape              Param #   \n",
      "=================================================================\n",
      " lstm_10 (LSTM)              (None, 10, 200)           161600    \n",
      "                                                                 \n",
      " dropout_13 (Dropout)        (None, 10, 200)           0         \n",
      "                                                                 \n",
      " lstm_11 (LSTM)              (None, 10, 200)           320800    \n",
      "                                                                 \n",
      " dropout_14 (Dropout)        (None, 10, 200)           0         \n",
      "                                                                 \n",
      " lstm_12 (LSTM)              (None, 10, 200)           320800    \n",
      "                                                                 \n",
      " dropout_15 (Dropout)        (None, 10, 200)           0         \n",
      "                                                                 \n",
      " lstm_13 (LSTM)              (None, 200)               320800    \n",
      "                                                                 \n",
      " dropout_16 (Dropout)        (None, 200)               0         \n",
      "                                                                 \n",
      " dense_4 (Dense)             (None, 1)                 201       \n",
      "                                                                 \n",
      "=================================================================\n",
      "Total params: 1,124,201\n",
      "Trainable params: 1,124,201\n",
      "Non-trainable params: 0\n",
      "_________________________________________________________________\n"
     ]
    }
   ],
   "source": [
    "regress = Sequential()\n",
    "regress.add(LSTM(units=200, return_sequences=True, input_shape=(X_train.shape[1],1)))\n",
    "regress.add(Dropout(0.4))\n",
    "regress.add(LSTM(units=200, return_sequences=True))\n",
    "regress.add(Dropout(0.4))\n",
    "regress.add(LSTM(units=200, return_sequences=True))\n",
    "regress.add(Dropout(0.4))\n",
    "regress.add(LSTM(units=200))\n",
    "regress.add(Dropout(0.4))\n",
    "regress.add(Dense(units=1))\n",
    "regress.compile(optimizer='adam',loss='mean_squared_error')\n",
    "regress.summary()"
   ]
  },
  {
   "cell_type": "code",
   "execution_count": 23,
   "id": "091b7174",
   "metadata": {
    "execution": {
     "iopub.execute_input": "2021-07-22T04:48:34.430939Z",
     "iopub.status.busy": "2021-07-22T04:48:34.428027Z",
     "iopub.status.idle": "2021-07-22T04:49:07.528092Z",
     "shell.execute_reply": "2021-07-22T04:49:07.527435Z",
     "shell.execute_reply.started": "2021-07-21T14:58:00.03382Z"
    },
    "papermill": {
     "duration": 33.784392,
     "end_time": "2021-07-22T04:49:07.528269",
     "exception": false,
     "start_time": "2021-07-22T04:48:33.743877",
     "status": "completed"
    },
    "scrolled": true,
    "tags": []
   },
   "outputs": [
    {
     "name": "stdout",
     "output_type": "stream",
     "text": [
      "Epoch 1/200\n",
      "2/2 [==============================] - 16s 43ms/step - loss: 0.3041\n",
      "Epoch 2/200\n",
      "2/2 [==============================] - 0s 44ms/step - loss: 0.1131\n",
      "Epoch 3/200\n",
      "2/2 [==============================] - 0s 41ms/step - loss: 0.1285\n",
      "Epoch 4/200\n",
      "2/2 [==============================] - 0s 42ms/step - loss: 0.0548\n",
      "Epoch 5/200\n",
      "2/2 [==============================] - 0s 44ms/step - loss: 0.0876\n",
      "Epoch 6/200\n",
      "2/2 [==============================] - 1s 42ms/step - loss: 0.0694\n",
      "Epoch 7/200\n",
      "2/2 [==============================] - 0s 41ms/step - loss: 0.0451\n",
      "Epoch 8/200\n",
      "2/2 [==============================] - 0s 43ms/step - loss: 0.0570\n",
      "Epoch 9/200\n",
      "2/2 [==============================] - 0s 42ms/step - loss: 0.0659\n",
      "Epoch 10/200\n",
      "2/2 [==============================] - 0s 46ms/step - loss: 0.0443\n",
      "Epoch 11/200\n",
      "2/2 [==============================] - 0s 42ms/step - loss: 0.0548\n",
      "Epoch 12/200\n",
      "2/2 [==============================] - 1s 45ms/step - loss: 0.0630\n",
      "Epoch 13/200\n",
      "2/2 [==============================] - 1s 43ms/step - loss: 0.0468\n",
      "Epoch 14/200\n",
      "2/2 [==============================] - 0s 47ms/step - loss: 0.0473\n",
      "Epoch 15/200\n",
      "2/2 [==============================] - 0s 44ms/step - loss: 0.0535\n",
      "Epoch 16/200\n",
      "2/2 [==============================] - 0s 43ms/step - loss: 0.0452\n",
      "Epoch 17/200\n",
      "2/2 [==============================] - 0s 44ms/step - loss: 0.0472\n",
      "Epoch 18/200\n",
      "2/2 [==============================] - 0s 43ms/step - loss: 0.0455\n",
      "Epoch 19/200\n",
      "2/2 [==============================] - 0s 45ms/step - loss: 0.0536\n",
      "Epoch 20/200\n",
      "2/2 [==============================] - 0s 43ms/step - loss: 0.0509\n",
      "Epoch 21/200\n",
      "2/2 [==============================] - 1s 43ms/step - loss: 0.0442\n",
      "Epoch 22/200\n",
      "2/2 [==============================] - 1s 45ms/step - loss: 0.0449\n",
      "Epoch 23/200\n",
      "2/2 [==============================] - 0s 42ms/step - loss: 0.0503\n",
      "Epoch 24/200\n",
      "2/2 [==============================] - 0s 42ms/step - loss: 0.0419\n",
      "Epoch 25/200\n",
      "2/2 [==============================] - 0s 43ms/step - loss: 0.0397\n",
      "Epoch 26/200\n",
      "2/2 [==============================] - 1s 46ms/step - loss: 0.0473\n",
      "Epoch 27/200\n",
      "2/2 [==============================] - 0s 43ms/step - loss: 0.0459\n",
      "Epoch 28/200\n",
      "2/2 [==============================] - 0s 44ms/step - loss: 0.0432\n",
      "Epoch 29/200\n",
      "2/2 [==============================] - 0s 45ms/step - loss: 0.0411\n",
      "Epoch 30/200\n",
      "2/2 [==============================] - 0s 43ms/step - loss: 0.0422\n",
      "Epoch 31/200\n",
      "2/2 [==============================] - 0s 41ms/step - loss: 0.0398\n",
      "Epoch 32/200\n",
      "2/2 [==============================] - 0s 43ms/step - loss: 0.0415\n",
      "Epoch 33/200\n",
      "2/2 [==============================] - 1s 43ms/step - loss: 0.0380\n",
      "Epoch 34/200\n",
      "2/2 [==============================] - 0s 44ms/step - loss: 0.0401\n",
      "Epoch 35/200\n",
      "2/2 [==============================] - 0s 43ms/step - loss: 0.0396\n",
      "Epoch 36/200\n",
      "2/2 [==============================] - 1s 42ms/step - loss: 0.0383\n",
      "Epoch 37/200\n",
      "2/2 [==============================] - 1s 43ms/step - loss: 0.0419\n",
      "Epoch 38/200\n",
      "2/2 [==============================] - 1s 45ms/step - loss: 0.0389\n",
      "Epoch 39/200\n",
      "2/2 [==============================] - 1s 42ms/step - loss: 0.0367\n",
      "Epoch 40/200\n",
      "2/2 [==============================] - 0s 43ms/step - loss: 0.0471\n",
      "Epoch 41/200\n",
      "2/2 [==============================] - 0s 43ms/step - loss: 0.0374\n",
      "Epoch 42/200\n",
      "2/2 [==============================] - 0s 42ms/step - loss: 0.0420\n",
      "Epoch 43/200\n",
      "2/2 [==============================] - 0s 45ms/step - loss: 0.0444\n",
      "Epoch 44/200\n",
      "2/2 [==============================] - 1s 43ms/step - loss: 0.0413\n",
      "Epoch 45/200\n",
      "2/2 [==============================] - 0s 44ms/step - loss: 0.0429\n",
      "Epoch 46/200\n",
      "2/2 [==============================] - 0s 43ms/step - loss: 0.0372\n",
      "Epoch 47/200\n",
      "2/2 [==============================] - 1s 46ms/step - loss: 0.0394\n",
      "Epoch 48/200\n",
      "2/2 [==============================] - 0s 42ms/step - loss: 0.0414\n",
      "Epoch 49/200\n",
      "2/2 [==============================] - 0s 44ms/step - loss: 0.0370\n",
      "Epoch 50/200\n",
      "2/2 [==============================] - 0s 45ms/step - loss: 0.0458\n",
      "Epoch 51/200\n",
      "2/2 [==============================] - 0s 44ms/step - loss: 0.0390\n",
      "Epoch 52/200\n",
      "2/2 [==============================] - 0s 44ms/step - loss: 0.0360\n",
      "Epoch 53/200\n",
      "2/2 [==============================] - 1s 42ms/step - loss: 0.0424\n",
      "Epoch 54/200\n",
      "2/2 [==============================] - 1s 42ms/step - loss: 0.0451\n",
      "Epoch 55/200\n",
      "2/2 [==============================] - 0s 42ms/step - loss: 0.0391\n",
      "Epoch 56/200\n",
      "2/2 [==============================] - 0s 42ms/step - loss: 0.0382\n",
      "Epoch 57/200\n",
      "2/2 [==============================] - 0s 42ms/step - loss: 0.0339\n",
      "Epoch 58/200\n",
      "2/2 [==============================] - 1s 46ms/step - loss: 0.0410\n",
      "Epoch 59/200\n",
      "2/2 [==============================] - 0s 45ms/step - loss: 0.0433\n",
      "Epoch 60/200\n",
      "2/2 [==============================] - 0s 43ms/step - loss: 0.0364\n",
      "Epoch 61/200\n",
      "2/2 [==============================] - 0s 43ms/step - loss: 0.0379\n",
      "Epoch 62/200\n",
      "2/2 [==============================] - 0s 43ms/step - loss: 0.0409\n",
      "Epoch 63/200\n",
      "2/2 [==============================] - 0s 44ms/step - loss: 0.0343\n",
      "Epoch 64/200\n",
      "2/2 [==============================] - 0s 45ms/step - loss: 0.0419\n",
      "Epoch 65/200\n",
      "2/2 [==============================] - 0s 45ms/step - loss: 0.0372\n",
      "Epoch 66/200\n",
      "2/2 [==============================] - 0s 42ms/step - loss: 0.0360\n",
      "Epoch 67/200\n",
      "2/2 [==============================] - 0s 44ms/step - loss: 0.0406\n",
      "Epoch 68/200\n",
      "2/2 [==============================] - 1s 43ms/step - loss: 0.0350\n",
      "Epoch 69/200\n",
      "2/2 [==============================] - 0s 42ms/step - loss: 0.0330\n",
      "Epoch 70/200\n",
      "2/2 [==============================] - 1s 47ms/step - loss: 0.0362\n",
      "Epoch 71/200\n",
      "2/2 [==============================] - 0s 41ms/step - loss: 0.0361\n",
      "Epoch 72/200\n",
      "2/2 [==============================] - 0s 42ms/step - loss: 0.0436\n",
      "Epoch 73/200\n",
      "2/2 [==============================] - 0s 43ms/step - loss: 0.0356\n",
      "Epoch 74/200\n",
      "2/2 [==============================] - 0s 44ms/step - loss: 0.0360\n",
      "Epoch 75/200\n",
      "2/2 [==============================] - 0s 42ms/step - loss: 0.0410\n",
      "Epoch 76/200\n",
      "2/2 [==============================] - 0s 46ms/step - loss: 0.0386\n",
      "Epoch 77/200\n",
      "2/2 [==============================] - 1s 41ms/step - loss: 0.0374\n",
      "Epoch 78/200\n",
      "2/2 [==============================] - 0s 43ms/step - loss: 0.0342\n",
      "Epoch 79/200\n",
      "2/2 [==============================] - 0s 43ms/step - loss: 0.0371\n",
      "Epoch 80/200\n",
      "2/2 [==============================] - 1s 43ms/step - loss: 0.0405\n",
      "Epoch 81/200\n",
      "2/2 [==============================] - 0s 42ms/step - loss: 0.0414\n",
      "Epoch 82/200\n",
      "2/2 [==============================] - 0s 46ms/step - loss: 0.0418\n",
      "Epoch 83/200\n",
      "2/2 [==============================] - 0s 44ms/step - loss: 0.0426\n",
      "Epoch 84/200\n",
      "2/2 [==============================] - 0s 43ms/step - loss: 0.0452\n",
      "Epoch 85/200\n",
      "2/2 [==============================] - 0s 44ms/step - loss: 0.0360\n",
      "Epoch 86/200\n",
      "2/2 [==============================] - 0s 42ms/step - loss: 0.0521\n",
      "Epoch 87/200\n",
      "2/2 [==============================] - 0s 42ms/step - loss: 0.0389\n",
      "Epoch 88/200\n",
      "2/2 [==============================] - 0s 53ms/step - loss: 0.0440\n",
      "Epoch 89/200\n",
      "2/2 [==============================] - 0s 44ms/step - loss: 0.0471\n",
      "Epoch 90/200\n",
      "2/2 [==============================] - 0s 43ms/step - loss: 0.0357\n",
      "Epoch 91/200\n",
      "2/2 [==============================] - 0s 43ms/step - loss: 0.0400\n",
      "Epoch 92/200\n",
      "2/2 [==============================] - 0s 42ms/step - loss: 0.0449\n",
      "Epoch 93/200\n",
      "2/2 [==============================] - 1s 44ms/step - loss: 0.0410\n",
      "Epoch 94/200\n",
      "2/2 [==============================] - 0s 49ms/step - loss: 0.0380\n",
      "Epoch 95/200\n",
      "2/2 [==============================] - 0s 44ms/step - loss: 0.0307\n",
      "Epoch 96/200\n",
      "2/2 [==============================] - 1s 45ms/step - loss: 0.0350\n",
      "Epoch 97/200\n",
      "2/2 [==============================] - 1s 45ms/step - loss: 0.0397\n",
      "Epoch 98/200\n",
      "2/2 [==============================] - 0s 41ms/step - loss: 0.0330\n",
      "Epoch 99/200\n",
      "2/2 [==============================] - 0s 45ms/step - loss: 0.0354\n",
      "Epoch 100/200\n",
      "2/2 [==============================] - 0s 43ms/step - loss: 0.0368\n",
      "Epoch 101/200\n",
      "2/2 [==============================] - 0s 41ms/step - loss: 0.0405\n",
      "Epoch 102/200\n",
      "2/2 [==============================] - 0s 42ms/step - loss: 0.0358\n",
      "Epoch 103/200\n",
      "2/2 [==============================] - 1s 43ms/step - loss: 0.0341\n",
      "Epoch 104/200\n",
      "2/2 [==============================] - 0s 42ms/step - loss: 0.0323\n",
      "Epoch 105/200\n",
      "2/2 [==============================] - 0s 43ms/step - loss: 0.0352\n",
      "Epoch 106/200\n",
      "2/2 [==============================] - 0s 45ms/step - loss: 0.0314\n",
      "Epoch 107/200\n",
      "2/2 [==============================] - 1s 42ms/step - loss: 0.0350\n",
      "Epoch 108/200\n",
      "2/2 [==============================] - 1s 45ms/step - loss: 0.0345\n",
      "Epoch 109/200\n",
      "2/2 [==============================] - 1s 46ms/step - loss: 0.0345\n",
      "Epoch 110/200\n",
      "2/2 [==============================] - 0s 43ms/step - loss: 0.0397\n",
      "Epoch 111/200\n",
      "2/2 [==============================] - 0s 43ms/step - loss: 0.0354\n",
      "Epoch 112/200\n",
      "2/2 [==============================] - 1s 42ms/step - loss: 0.0320\n",
      "Epoch 113/200\n",
      "2/2 [==============================] - 1s 44ms/step - loss: 0.0341\n",
      "Epoch 114/200\n",
      "2/2 [==============================] - 1s 42ms/step - loss: 0.0327\n",
      "Epoch 115/200\n",
      "2/2 [==============================] - 1s 43ms/step - loss: 0.0333\n",
      "Epoch 116/200\n",
      "2/2 [==============================] - 0s 45ms/step - loss: 0.0397\n",
      "Epoch 117/200\n",
      "2/2 [==============================] - 0s 45ms/step - loss: 0.0398\n",
      "Epoch 118/200\n",
      "2/2 [==============================] - 0s 43ms/step - loss: 0.0366\n",
      "Epoch 119/200\n",
      "2/2 [==============================] - 0s 45ms/step - loss: 0.0403\n",
      "Epoch 120/200\n",
      "2/2 [==============================] - 1s 44ms/step - loss: 0.0346\n",
      "Epoch 121/200\n",
      "2/2 [==============================] - 0s 44ms/step - loss: 0.0327\n",
      "Epoch 122/200\n",
      "2/2 [==============================] - 0s 47ms/step - loss: 0.0334\n",
      "Epoch 123/200\n",
      "2/2 [==============================] - 1s 44ms/step - loss: 0.0358\n",
      "Epoch 124/200\n",
      "2/2 [==============================] - 0s 43ms/step - loss: 0.0358\n",
      "Epoch 125/200\n",
      "2/2 [==============================] - 0s 43ms/step - loss: 0.0399\n",
      "Epoch 126/200\n",
      "2/2 [==============================] - 0s 44ms/step - loss: 0.0342\n",
      "Epoch 127/200\n",
      "2/2 [==============================] - 0s 41ms/step - loss: 0.0443\n",
      "Epoch 128/200\n",
      "2/2 [==============================] - 0s 44ms/step - loss: 0.0348\n",
      "Epoch 129/200\n",
      "2/2 [==============================] - 1s 43ms/step - loss: 0.0328\n",
      "Epoch 130/200\n",
      "2/2 [==============================] - 0s 43ms/step - loss: 0.0383\n",
      "Epoch 131/200\n",
      "2/2 [==============================] - 0s 43ms/step - loss: 0.0271\n",
      "Epoch 132/200\n",
      "2/2 [==============================] - 1s 42ms/step - loss: 0.0336\n",
      "Epoch 133/200\n",
      "2/2 [==============================] - 0s 43ms/step - loss: 0.0358\n",
      "Epoch 134/200\n",
      "2/2 [==============================] - 0s 46ms/step - loss: 0.0360\n",
      "Epoch 135/200\n",
      "2/2 [==============================] - 0s 42ms/step - loss: 0.0309\n",
      "Epoch 136/200\n",
      "2/2 [==============================] - 1s 43ms/step - loss: 0.0316\n",
      "Epoch 137/200\n",
      "2/2 [==============================] - 1s 42ms/step - loss: 0.0324\n",
      "Epoch 138/200\n",
      "2/2 [==============================] - 0s 42ms/step - loss: 0.0328\n",
      "Epoch 139/200\n",
      "2/2 [==============================] - 0s 46ms/step - loss: 0.0308\n",
      "Epoch 140/200\n",
      "2/2 [==============================] - 0s 42ms/step - loss: 0.0357\n",
      "Epoch 141/200\n",
      "2/2 [==============================] - 0s 42ms/step - loss: 0.0358\n",
      "Epoch 142/200\n",
      "2/2 [==============================] - 1s 44ms/step - loss: 0.0375\n",
      "Epoch 143/200\n",
      "2/2 [==============================] - 0s 43ms/step - loss: 0.0329\n",
      "Epoch 144/200\n",
      "2/2 [==============================] - 0s 42ms/step - loss: 0.0343\n",
      "Epoch 145/200\n",
      "2/2 [==============================] - 1s 44ms/step - loss: 0.0380\n",
      "Epoch 146/200\n",
      "2/2 [==============================] - 0s 42ms/step - loss: 0.0316\n",
      "Epoch 147/200\n",
      "2/2 [==============================] - 0s 42ms/step - loss: 0.0310\n",
      "Epoch 148/200\n",
      "2/2 [==============================] - 0s 42ms/step - loss: 0.0343\n",
      "Epoch 149/200\n",
      "2/2 [==============================] - 0s 43ms/step - loss: 0.0322\n",
      "Epoch 150/200\n",
      "2/2 [==============================] - 0s 44ms/step - loss: 0.0355\n",
      "Epoch 151/200\n",
      "2/2 [==============================] - 1s 44ms/step - loss: 0.0311\n",
      "Epoch 152/200\n",
      "2/2 [==============================] - 1s 45ms/step - loss: 0.0333\n",
      "Epoch 153/200\n",
      "2/2 [==============================] - 0s 44ms/step - loss: 0.0285\n",
      "Epoch 154/200\n",
      "2/2 [==============================] - 0s 41ms/step - loss: 0.0353\n",
      "Epoch 155/200\n",
      "2/2 [==============================] - 0s 43ms/step - loss: 0.0344\n",
      "Epoch 156/200\n",
      "2/2 [==============================] - 1s 43ms/step - loss: 0.0330\n",
      "Epoch 157/200\n",
      "2/2 [==============================] - 0s 43ms/step - loss: 0.0345\n",
      "Epoch 158/200\n",
      "2/2 [==============================] - 0s 44ms/step - loss: 0.0273\n",
      "Epoch 159/200\n",
      "2/2 [==============================] - 0s 42ms/step - loss: 0.0298\n",
      "Epoch 160/200\n",
      "2/2 [==============================] - 1s 44ms/step - loss: 0.0317\n",
      "Epoch 161/200\n",
      "2/2 [==============================] - 1s 45ms/step - loss: 0.0255\n",
      "Epoch 162/200\n",
      "2/2 [==============================] - 0s 42ms/step - loss: 0.0272\n",
      "Epoch 163/200\n",
      "2/2 [==============================] - 1s 44ms/step - loss: 0.0241\n",
      "Epoch 164/200\n",
      "2/2 [==============================] - 0s 44ms/step - loss: 0.0328\n",
      "Epoch 165/200\n",
      "2/2 [==============================] - 1s 45ms/step - loss: 0.0326\n",
      "Epoch 166/200\n",
      "2/2 [==============================] - 1s 45ms/step - loss: 0.0292\n",
      "Epoch 167/200\n",
      "2/2 [==============================] - 0s 42ms/step - loss: 0.0284\n",
      "Epoch 168/200\n",
      "2/2 [==============================] - 0s 42ms/step - loss: 0.0316\n",
      "Epoch 169/200\n",
      "2/2 [==============================] - 0s 45ms/step - loss: 0.0333\n",
      "Epoch 170/200\n",
      "2/2 [==============================] - 0s 42ms/step - loss: 0.0377\n",
      "Epoch 171/200\n",
      "2/2 [==============================] - 1s 42ms/step - loss: 0.0290\n",
      "Epoch 172/200\n",
      "2/2 [==============================] - 0s 44ms/step - loss: 0.0369\n",
      "Epoch 173/200\n",
      "2/2 [==============================] - 0s 44ms/step - loss: 0.0327\n",
      "Epoch 174/200\n",
      "2/2 [==============================] - 0s 43ms/step - loss: 0.0310\n",
      "Epoch 175/200\n",
      "2/2 [==============================] - 1s 43ms/step - loss: 0.0317\n",
      "Epoch 176/200\n",
      "2/2 [==============================] - 1s 45ms/step - loss: 0.0340\n",
      "Epoch 177/200\n",
      "2/2 [==============================] - 0s 45ms/step - loss: 0.0351\n",
      "Epoch 178/200\n",
      "2/2 [==============================] - 1s 43ms/step - loss: 0.0405\n",
      "Epoch 179/200\n",
      "2/2 [==============================] - 0s 45ms/step - loss: 0.0297\n",
      "Epoch 180/200\n",
      "2/2 [==============================] - 0s 44ms/step - loss: 0.0298\n",
      "Epoch 181/200\n",
      "2/2 [==============================] - 0s 46ms/step - loss: 0.0276\n",
      "Epoch 182/200\n",
      "2/2 [==============================] - 0s 44ms/step - loss: 0.0268\n",
      "Epoch 183/200\n",
      "2/2 [==============================] - 0s 43ms/step - loss: 0.0281\n",
      "Epoch 184/200\n",
      "2/2 [==============================] - 0s 44ms/step - loss: 0.0290\n",
      "Epoch 185/200\n",
      "2/2 [==============================] - 0s 43ms/step - loss: 0.0320\n",
      "Epoch 186/200\n",
      "2/2 [==============================] - 0s 44ms/step - loss: 0.0287\n",
      "Epoch 187/200\n",
      "2/2 [==============================] - 0s 43ms/step - loss: 0.0264\n",
      "Epoch 188/200\n",
      "2/2 [==============================] - 1s 45ms/step - loss: 0.0257\n",
      "Epoch 189/200\n",
      "2/2 [==============================] - 1s 43ms/step - loss: 0.0269\n",
      "Epoch 190/200\n",
      "2/2 [==============================] - 0s 42ms/step - loss: 0.0287\n",
      "Epoch 191/200\n",
      "2/2 [==============================] - 1s 42ms/step - loss: 0.0221\n",
      "Epoch 192/200\n",
      "2/2 [==============================] - 1s 43ms/step - loss: 0.0332\n",
      "Epoch 193/200\n",
      "2/2 [==============================] - 0s 45ms/step - loss: 0.0255\n",
      "Epoch 194/200\n",
      "2/2 [==============================] - 0s 43ms/step - loss: 0.0243\n",
      "Epoch 195/200\n",
      "2/2 [==============================] - 0s 43ms/step - loss: 0.0304\n",
      "Epoch 196/200\n",
      "2/2 [==============================] - 0s 44ms/step - loss: 0.0289\n",
      "Epoch 197/200\n",
      "2/2 [==============================] - 0s 44ms/step - loss: 0.0282\n",
      "Epoch 198/200\n",
      "2/2 [==============================] - 0s 46ms/step - loss: 0.0264\n",
      "Epoch 199/200\n",
      "2/2 [==============================] - 1s 43ms/step - loss: 0.0277\n",
      "Epoch 200/200\n",
      "2/2 [==============================] - 0s 45ms/step - loss: 0.0237\n"
     ]
    },
    {
     "data": {
      "text/plain": [
       "<keras.callbacks.History at 0x21ba40525b0>"
      ]
     },
     "execution_count": 23,
     "metadata": {},
     "output_type": "execute_result"
    }
   ],
   "source": [
    "regress.fit(X_train,y_train,epochs=200,batch_size=25)"
   ]
  },
  {
   "cell_type": "code",
   "execution_count": 24,
   "id": "aa54e988",
   "metadata": {
    "execution": {
     "iopub.execute_input": "2021-07-22T04:49:09.417806Z",
     "iopub.status.busy": "2021-07-22T04:49:09.417127Z",
     "iopub.status.idle": "2021-07-22T04:49:09.419668Z",
     "shell.execute_reply": "2021-07-22T04:49:09.420294Z",
     "shell.execute_reply.started": "2021-07-21T14:58:30.906209Z"
    },
    "papermill": {
     "duration": 0.974012,
     "end_time": "2021-07-22T04:49:09.420479",
     "exception": false,
     "start_time": "2021-07-22T04:49:08.446467",
     "status": "completed"
    },
    "tags": []
   },
   "outputs": [
    {
     "name": "stdout",
     "output_type": "stream",
     "text": [
      "119\n"
     ]
    }
   ],
   "source": [
    "print(len(data_test))\n",
    "data_total=pd.concat((data_train['capacity'], data_test['capacity']),axis=0)\n",
    "inputs=data_total[len(data_total)-len(data_test)-10:].values\n",
    "inputs=inputs.reshape(-1,1)\n",
    "inputs=sc.transform(inputs)"
   ]
  },
  {
   "cell_type": "code",
   "execution_count": 25,
   "id": "9fd9e588",
   "metadata": {
    "execution": {
     "iopub.execute_input": "2021-07-22T04:49:11.319283Z",
     "iopub.status.busy": "2021-07-22T04:49:11.318526Z",
     "iopub.status.idle": "2021-07-22T04:49:12.833648Z",
     "shell.execute_reply": "2021-07-22T04:49:12.833020Z",
     "shell.execute_reply.started": "2021-07-21T14:58:30.917153Z"
    },
    "papermill": {
     "duration": 2.488307,
     "end_time": "2021-07-22T04:49:12.833801",
     "exception": false,
     "start_time": "2021-07-22T04:49:10.345494",
     "status": "completed"
    },
    "tags": []
   },
   "outputs": [
    {
     "name": "stdout",
     "output_type": "stream",
     "text": [
      "(119, 1)\n",
      "Test RMSE: 0.036\n"
     ]
    },
    {
     "data": {
      "text/plain": [
       "0.9287608052200429"
      ]
     },
     "execution_count": 25,
     "metadata": {},
     "output_type": "execute_result"
    }
   ],
   "source": [
    "X_test=[]\n",
    "for i in range(10,129):\n",
    "    X_test.append(inputs[i-10:i,0])\n",
    "X_test=np.array(X_test)\n",
    "X_test=np.reshape(X_test,(X_test.shape[0],X_test.shape[1],1))\n",
    "pred=regress.predict(X_test)\n",
    "print(pred.shape)\n",
    "pred=sc.inverse_transform(pred)\n",
    "pred=pred[:,0]\n",
    "tests=data_test.iloc[:,1:2]\n",
    "rmse = np.sqrt(mean_squared_error(tests, pred))\n",
    "print('Test RMSE: %.3f' % rmse)\n",
    "metrics.r2_score(tests,pred)"
   ]
  },
  {
   "cell_type": "markdown",
   "id": "d48d6d20",
   "metadata": {
    "papermill": {
     "duration": 0.912008,
     "end_time": "2021-07-22T04:49:14.657428",
     "exception": false,
     "start_time": "2021-07-22T04:49:13.745420",
     "status": "completed"
    },
    "tags": []
   },
   "source": [
    "As can be seen, the mean RMSE is 0.05 (5%), which is very close to the values observed in the literature using this type of network."
   ]
  },
  {
   "cell_type": "code",
   "execution_count": 26,
   "id": "4de57b00",
   "metadata": {
    "execution": {
     "iopub.execute_input": "2021-07-22T04:49:16.497961Z",
     "iopub.status.busy": "2021-07-22T04:49:16.497149Z",
     "iopub.status.idle": "2021-07-22T04:49:16.877130Z",
     "shell.execute_reply": "2021-07-22T04:49:16.876386Z",
     "shell.execute_reply.started": "2021-07-21T14:58:32.382252Z"
    },
    "papermill": {
     "duration": 1.30042,
     "end_time": "2021-07-22T04:49:16.877281",
     "exception": false,
     "start_time": "2021-07-22T04:49:15.576861",
     "status": "completed"
    },
    "tags": []
   },
   "outputs": [
    {
     "name": "stderr",
     "output_type": "stream",
     "text": [
      "C:\\Users\\vinod\\AppData\\Local\\Temp\\ipykernel_16768\\1198164500.py:2: SettingWithCopyWarning: \n",
      "A value is trying to be set on a copy of a slice from a DataFrame.\n",
      "Try using .loc[row_indexer,col_indexer] = value instead\n",
      "\n",
      "See the caveats in the documentation: https://pandas.pydata.org/pandas-docs/stable/user_guide/indexing.html#returning-a-view-versus-a-copy\n",
      "  data_test['pre']=pred\n"
     ]
    },
    {
     "data": {
      "text/plain": [
       "Text(0.5, 1.0, 'Discharge B0005 (prediction) start in cycle 50 -RULe=-8, window-size=10')"
      ]
     },
     "execution_count": 26,
     "metadata": {},
     "output_type": "execute_result"
    },
    {
     "data": {
      "image/png": "[encoded data removed]",
      "text/plain": [
       "<Figure size 1600x1000 with 1 Axes>"
      ]
     },
     "metadata": {},
     "output_type": "display_data"
    }
   ],
   "source": [
    "ln = len(data_train)\n",
    "data_test['pre']=pred\n",
    "plot_df = dataset.loc[(dataset['cycle']>=1),['cycle','capacity']]\n",
    "plot_per = data_test.loc[(data_test['cycle']>=ln),['cycle','pre']]\n",
    "plt.figure(figsize=(16, 10))\n",
    "plt.plot(plot_df['cycle'], plot_df['capacity'], label=\"Actual data\", color='blue')\n",
    "plt.plot(plot_per['cycle'],plot_per['pre'],label=\"Prediction data\", color='red')\n",
    "#Draw threshold\n",
    "plt.plot([0.,168], [1.38, 1.38],dashes=[6, 2], label=\"treshold\")\n",
    "plt.ylabel('Capacity')\n",
    "# make x-axis ticks legible\n",
    "adf = plt.gca().get_xaxis().get_major_formatter()\n",
    "plt.xlabel('cycle')\n",
    "plt.legend()\n",
    "plt.title('Discharge B0005 (prediction) start in cycle 50 -RULe=-8, window-size=10')"
   ]
  },
  {
   "cell_type": "markdown",
   "id": "2753e695",
   "metadata": {
    "papermill": {
     "duration": 0.917,
     "end_time": "2021-07-22T04:49:18.732289",
     "exception": false,
     "start_time": "2021-07-22T04:49:17.815289",
     "status": "completed"
    },
    "tags": []
   },
   "source": [
    "Finally, it can be seen in the graph that the capacity value and how it behaves over time is very close to the real value and supporting these data, the error in the estimation of the RUL was -8 which makes us understand that The model went ahead by 8 cycles to estimate that the battery reached its end of life."
   ]
  },
  {
   "cell_type": "code",
   "execution_count": 27,
   "id": "b70bde80",
   "metadata": {
    "execution": {
     "iopub.execute_input": "2021-07-22T04:49:20.629070Z",
     "iopub.status.busy": "2021-07-22T04:49:20.628162Z",
     "iopub.status.idle": "2021-07-22T04:49:20.631010Z",
     "shell.execute_reply": "2021-07-22T04:49:20.631515Z",
     "shell.execute_reply.started": "2021-07-21T14:58:32.719138Z"
    },
    "papermill": {
     "duration": 0.935392,
     "end_time": "2021-07-22T04:49:20.631706",
     "exception": false,
     "start_time": "2021-07-22T04:49:19.696314",
     "status": "completed"
    },
    "tags": []
   },
   "outputs": [
    {
     "name": "stdout",
     "output_type": "stream",
     "text": [
      "The Actual fail at cycle number: 128\n",
      "The prediction fail at cycle number: 141\n",
      "The error of RUL= 13 Cycle(s)\n"
     ]
    }
   ],
   "source": [
    "pred=0\n",
    "Afil=0\n",
    "Pfil=0\n",
    "a=data_test['capacity'].values\n",
    "b=data_test['pre'].values\n",
    "j=0\n",
    "k=0\n",
    "for i in range(len(a)):\n",
    "    actual=a[i]\n",
    "    \n",
    "    if actual<=1.38:\n",
    "        j=i\n",
    "        Afil=j\n",
    "        break\n",
    "for i in range(len(a)):\n",
    "    pred=b[i]\n",
    "    if pred< 1.38:\n",
    "        k=i\n",
    "        Pfil=k\n",
    "        break\n",
    "print(\"The Actual fail at cycle number: \"+ str(Afil+ln))\n",
    "print(\"The prediction fail at cycle number: \"+ str(Pfil+ln))\n",
    "RULerror=Pfil-Afil\n",
    "print(\"The error of RUL= \"+ str(RULerror)+ \" Cycle(s)\")"
   ]
  },
  {
   "cell_type": "markdown",
   "id": "6a93778a",
   "metadata": {},
   "source": [
    "### Hyperparameter Tuning "
   ]
  },
  {
   "cell_type": "code",
   "execution_count": 17,
   "id": "3c4472e5",
   "metadata": {},
   "outputs": [],
   "source": [
    "# Importing the libraries\n",
    "import numpy as np\n",
    "import matplotlib.pyplot as plt\n",
    "import pandas as pd\n",
    "import seaborn as sns\n",
    "import tensorflow as tf\n",
    "from keras.models import Sequential\n",
    "from keras.layers import Dense\n",
    "from keras.layers import LSTM, GRU\n",
    "from keras.layers import Dropout\n",
    "from sklearn.preprocessing import MinMaxScaler\n",
    "from keras.models import load_model\n",
    "from keras.callbacks import EarlyStopping\n",
    "from keras.callbacks import ModelCheckpoint\n",
    "import itertools\n",
    "import random\n",
    "import os"
   ]
  },
  {
   "cell_type": "code",
   "execution_count": 18,
   "id": "3a223c7c",
   "metadata": {},
   "outputs": [],
   "source": [
    "def LSTM_HyperParameter_Tuning(config, x_train, y_train, x_test, y_test):\n",
    "    \n",
    "    first_additional_layer, second_additional_layer, third_additional_layer, n_neurons, n_batch_size, dropout = config\n",
    "    possible_combinations = list(itertools.product(first_additional_layer, second_additional_layer, third_additional_layer,\n",
    "                                                  n_neurons, n_batch_size, dropout))\n",
    "    \n",
    "    print(possible_combinations)\n",
    "    print('\\n')\n",
    "    \n",
    "    hist = []\n",
    "    \n",
    "    for i in range(0, len(possible_combinations)):\n",
    "        \n",
    "        print(f'{i+1}th combination: \\n')\n",
    "        print('--------------------------------------------------------------------')\n",
    "        \n",
    "        first_additional_layer, second_additional_layer, third_additional_layer, n_neurons, n_batch_size, dropout = possible_combinations[i]\n",
    "        \n",
    "        # instantiating the model in the strategy scope creates the model on the TPU\n",
    "        #with tpu_strategy.scope():\n",
    "        regressor = Sequential()\n",
    "        regressor.add(LSTM(units=n_neurons, return_sequences=True, input_shape=(x_train.shape[1], x_train.shape[2])))\n",
    "        regressor.add(Dropout(dropout))\n",
    "\n",
    "        if first_additional_layer:\n",
    "            regressor.add(LSTM(units=n_neurons, return_sequences=True))\n",
    "            regressor.add(Dropout(dropout))\n",
    "\n",
    "        if second_additional_layer:\n",
    "            regressor.add(LSTM(units=n_neurons, return_sequences=True))\n",
    "            regressor.add(Dropout(dropout))\n",
    "\n",
    "        if third_additional_layer:\n",
    "            regressor.add(GRU(units=n_neurons, return_sequences=True))\n",
    "            regressor.add(Dropout(dropout))\n",
    "\n",
    "        regressor.add(LSTM(units=n_neurons, return_sequences=False))\n",
    "        regressor.add(Dropout(dropout))\n",
    "        regressor.add(Dense(units=1, activation='linear'))\n",
    "        regressor.compile(optimizer='adam', loss='mse', metrics=[tf.keras.metrics.RootMeanSquaredError()])\n",
    "\n",
    "        es = EarlyStopping(monitor='val_loss', mode='min', verbose=1, patience=5)\n",
    "        '''''\n",
    "        From the mentioned article above --> If a validation dataset is specified to the fit() function via the validation_data or v\n",
    "        alidation_split arguments,then the loss on the validation dataset will be made available via the name “val_loss.”\n",
    "        '''''\n",
    "\n",
    "        file_path = 'best_model.h5'\n",
    "\n",
    "        mc = ModelCheckpoint(file_path, monitor='val_loss', mode='min', verbose=1, save_best_only=True)\n",
    "\n",
    "        '''''\n",
    "        cb = Callback(...)  # First, callbacks must be instantiated.\n",
    "        cb_list = [cb, ...]  # Then, one or more callbacks that you intend to use must be added to a Python list.\n",
    "        model.fit(..., callbacks=cb_list)  # Finally, the list of callbacks is provided to the callback argument when fitting the model.\n",
    "        '''''\n",
    "\n",
    "        regressor.fit(x_train, y_train, validation_split=0.3, epochs=40, batch_size=n_batch_size, callbacks=[es, mc], verbose=0)\n",
    "\n",
    "        # load the best model\n",
    "        # regressor = load_model('best_model.h5')\n",
    "\n",
    "        train_accuracy = regressor.evaluate(x_train, y_train, verbose=0)\n",
    "        test_accuracy = regressor.evaluate(x_test, y_test, verbose=0)\n",
    "\n",
    "        hist.append(list((first_additional_layer, second_additional_layer, third_additional_layer, n_neurons, n_batch_size, dropout,\n",
    "                          train_accuracy, test_accuracy)))\n",
    "\n",
    "        print(f'{str(i)}-th combination = {possible_combinations[i]} \\n train accuracy: {train_accuracy} and test accuracy: {test_accuracy}')\n",
    "        \n",
    "        print('--------------------------------------------------------------------')\n",
    "        print('--------------------------------------------------------------------')\n",
    "        print('--------------------------------------------------------------------')\n",
    "        print('--------------------------------------------------------------------')\n",
    "         \n",
    "    return hist"
   ]
  },
  {
   "cell_type": "code",
   "execution_count": 19,
   "id": "55351a62",
   "metadata": {
    "scrolled": true
   },
   "outputs": [
    {
     "name": "stdout",
     "output_type": "stream",
     "text": [
      "[(False, False, True, 200, 32, 0.2), (False, False, True, 200, 200, 0.2), (False, False, True, 200, 32, 0.2), (False, False, True, 32, 32, 0.2), (False, False, True, 32, 200, 0.2), (False, False, True, 32, 32, 0.2)]\n",
      "\n",
      "\n",
      "1th combination: \n",
      "\n",
      "--------------------------------------------------------------------\n",
      "\n",
      "Epoch 1: val_loss improved from inf to 0.02776, saving model to best_model.h5\n",
      "\n",
      "Epoch 2: val_loss did not improve from 0.02776\n",
      "\n",
      "Epoch 3: val_loss did not improve from 0.02776\n",
      "\n",
      "Epoch 4: val_loss did not improve from 0.02776\n",
      "\n",
      "Epoch 5: val_loss did not improve from 0.02776\n",
      "\n",
      "Epoch 6: val_loss did not improve from 0.02776\n",
      "Epoch 6: early stopping\n",
      "0-th combination = (False, False, True, 200, 32, 0.2) \n",
      " train accuracy: [0.03554177284240723, 0.1885252594947815] and test accuracy: [6.253110885620117, 2.500622034072876]\n",
      "--------------------------------------------------------------------\n",
      "--------------------------------------------------------------------\n",
      "--------------------------------------------------------------------\n",
      "--------------------------------------------------------------------\n",
      "2th combination: \n",
      "\n",
      "--------------------------------------------------------------------\n",
      "\n",
      "Epoch 1: val_loss improved from inf to 0.02858, saving model to best_model.h5\n",
      "\n",
      "Epoch 2: val_loss improved from 0.02858 to 0.02687, saving model to best_model.h5\n",
      "\n",
      "Epoch 3: val_loss did not improve from 0.02687\n",
      "\n",
      "Epoch 4: val_loss did not improve from 0.02687\n",
      "\n",
      "Epoch 5: val_loss did not improve from 0.02687\n",
      "\n",
      "Epoch 6: val_loss did not improve from 0.02687\n",
      "\n",
      "Epoch 7: val_loss did not improve from 0.02687\n",
      "Epoch 7: early stopping\n",
      "1-th combination = (False, False, True, 200, 200, 0.2) \n",
      " train accuracy: [0.04719690978527069, 0.21724849939346313] and test accuracy: [5.624004364013672, 2.3714983463287354]\n",
      "--------------------------------------------------------------------\n",
      "--------------------------------------------------------------------\n",
      "--------------------------------------------------------------------\n",
      "--------------------------------------------------------------------\n",
      "3th combination: \n",
      "\n",
      "--------------------------------------------------------------------\n"
     ]
    },
    {
     "ename": "KeyboardInterrupt",
     "evalue": "",
     "output_type": "error",
     "traceback": [
      "\u001b[1;31m---------------------------------------------------------------------------\u001b[0m",
      "\u001b[1;31mKeyboardInterrupt\u001b[0m                         Traceback (most recent call last)",
      "\u001b[1;32m~\\AppData\\Local\\Temp\\ipykernel_16768\\1798242962.py\u001b[0m in \u001b[0;36m<module>\u001b[1;34m\u001b[0m\n\u001b[0;32m      3\u001b[0m \u001b[1;31m# list of lists --> [[first_additional_layer], [second_additional_layer], [third_additional_layer], [n_neurons], [n_batch_size], [dropout]]\u001b[0m\u001b[1;33m\u001b[0m\u001b[1;33m\u001b[0m\u001b[1;33m\u001b[0m\u001b[0m\n\u001b[0;32m      4\u001b[0m \u001b[1;33m\u001b[0m\u001b[0m\n\u001b[1;32m----> 5\u001b[1;33m \u001b[0mhist\u001b[0m \u001b[1;33m=\u001b[0m \u001b[0mLSTM_HyperParameter_Tuning\u001b[0m\u001b[1;33m(\u001b[0m\u001b[0mconfig\u001b[0m\u001b[1;33m,\u001b[0m \u001b[0mX_train\u001b[0m\u001b[1;33m,\u001b[0m \u001b[0my_train\u001b[0m\u001b[1;33m,\u001b[0m \u001b[0mX_test\u001b[0m\u001b[1;33m,\u001b[0m \u001b[0mtests\u001b[0m\u001b[1;33m)\u001b[0m  \u001b[1;31m# change x_train shape\u001b[0m\u001b[1;33m\u001b[0m\u001b[1;33m\u001b[0m\u001b[0m\n\u001b[0m",
      "\u001b[1;32m~\\AppData\\Local\\Temp\\ipykernel_16768\\3879919720.py\u001b[0m in \u001b[0;36mLSTM_HyperParameter_Tuning\u001b[1;34m(config, x_train, y_train, x_test, y_test)\u001b[0m\n\u001b[0;32m     56\u001b[0m         '''''\n\u001b[0;32m     57\u001b[0m \u001b[1;33m\u001b[0m\u001b[0m\n\u001b[1;32m---> 58\u001b[1;33m         \u001b[0mregressor\u001b[0m\u001b[1;33m.\u001b[0m\u001b[0mfit\u001b[0m\u001b[1;33m(\u001b[0m\u001b[0mx_train\u001b[0m\u001b[1;33m,\u001b[0m \u001b[0my_train\u001b[0m\u001b[1;33m,\u001b[0m \u001b[0mvalidation_split\u001b[0m\u001b[1;33m=\u001b[0m\u001b[1;36m0.3\u001b[0m\u001b[1;33m,\u001b[0m \u001b[0mepochs\u001b[0m\u001b[1;33m=\u001b[0m\u001b[1;36m40\u001b[0m\u001b[1;33m,\u001b[0m \u001b[0mbatch_size\u001b[0m\u001b[1;33m=\u001b[0m\u001b[0mn_batch_size\u001b[0m\u001b[1;33m,\u001b[0m \u001b[0mcallbacks\u001b[0m\u001b[1;33m=\u001b[0m\u001b[1;33m[\u001b[0m\u001b[0mes\u001b[0m\u001b[1;33m,\u001b[0m \u001b[0mmc\u001b[0m\u001b[1;33m]\u001b[0m\u001b[1;33m,\u001b[0m \u001b[0mverbose\u001b[0m\u001b[1;33m=\u001b[0m\u001b[1;36m0\u001b[0m\u001b[1;33m)\u001b[0m\u001b[1;33m\u001b[0m\u001b[1;33m\u001b[0m\u001b[0m\n\u001b[0m\u001b[0;32m     59\u001b[0m \u001b[1;33m\u001b[0m\u001b[0m\n\u001b[0;32m     60\u001b[0m         \u001b[1;31m# load the best model\u001b[0m\u001b[1;33m\u001b[0m\u001b[1;33m\u001b[0m\u001b[1;33m\u001b[0m\u001b[0m\n",
      "\u001b[1;32m~\\miniconda3\\envs\\mini\\lib\\site-packages\\keras\\utils\\traceback_utils.py\u001b[0m in \u001b[0;36merror_handler\u001b[1;34m(*args, **kwargs)\u001b[0m\n\u001b[0;32m     62\u001b[0m     \u001b[0mfiltered_tb\u001b[0m \u001b[1;33m=\u001b[0m \u001b[1;32mNone\u001b[0m\u001b[1;33m\u001b[0m\u001b[1;33m\u001b[0m\u001b[0m\n\u001b[0;32m     63\u001b[0m     \u001b[1;32mtry\u001b[0m\u001b[1;33m:\u001b[0m\u001b[1;33m\u001b[0m\u001b[1;33m\u001b[0m\u001b[0m\n\u001b[1;32m---> 64\u001b[1;33m       \u001b[1;32mreturn\u001b[0m \u001b[0mfn\u001b[0m\u001b[1;33m(\u001b[0m\u001b[1;33m*\u001b[0m\u001b[0margs\u001b[0m\u001b[1;33m,\u001b[0m \u001b[1;33m**\u001b[0m\u001b[0mkwargs\u001b[0m\u001b[1;33m)\u001b[0m\u001b[1;33m\u001b[0m\u001b[1;33m\u001b[0m\u001b[0m\n\u001b[0m\u001b[0;32m     65\u001b[0m     \u001b[1;32mexcept\u001b[0m \u001b[0mException\u001b[0m \u001b[1;32mas\u001b[0m \u001b[0me\u001b[0m\u001b[1;33m:\u001b[0m  \u001b[1;31m# pylint: disable=broad-except\u001b[0m\u001b[1;33m\u001b[0m\u001b[1;33m\u001b[0m\u001b[0m\n\u001b[0;32m     66\u001b[0m       \u001b[0mfiltered_tb\u001b[0m \u001b[1;33m=\u001b[0m \u001b[0m_process_traceback_frames\u001b[0m\u001b[1;33m(\u001b[0m\u001b[0me\u001b[0m\u001b[1;33m.\u001b[0m\u001b[0m__traceback__\u001b[0m\u001b[1;33m)\u001b[0m\u001b[1;33m\u001b[0m\u001b[1;33m\u001b[0m\u001b[0m\n",
      "\u001b[1;32m~\\miniconda3\\envs\\mini\\lib\\site-packages\\keras\\engine\\training.py\u001b[0m in \u001b[0;36mfit\u001b[1;34m(self, x, y, batch_size, epochs, verbose, callbacks, validation_split, validation_data, shuffle, class_weight, sample_weight, initial_epoch, steps_per_epoch, validation_steps, validation_batch_size, validation_freq, max_queue_size, workers, use_multiprocessing)\u001b[0m\n\u001b[0;32m   1418\u001b[0m                 \u001b[0mmodel\u001b[0m\u001b[1;33m=\u001b[0m\u001b[0mself\u001b[0m\u001b[1;33m,\u001b[0m\u001b[1;33m\u001b[0m\u001b[1;33m\u001b[0m\u001b[0m\n\u001b[0;32m   1419\u001b[0m                 steps_per_execution=self._steps_per_execution)\n\u001b[1;32m-> 1420\u001b[1;33m           val_logs = self.evaluate(\n\u001b[0m\u001b[0;32m   1421\u001b[0m               \u001b[0mx\u001b[0m\u001b[1;33m=\u001b[0m\u001b[0mval_x\u001b[0m\u001b[1;33m,\u001b[0m\u001b[1;33m\u001b[0m\u001b[1;33m\u001b[0m\u001b[0m\n\u001b[0;32m   1422\u001b[0m               \u001b[0my\u001b[0m\u001b[1;33m=\u001b[0m\u001b[0mval_y\u001b[0m\u001b[1;33m,\u001b[0m\u001b[1;33m\u001b[0m\u001b[1;33m\u001b[0m\u001b[0m\n",
      "\u001b[1;32m~\\miniconda3\\envs\\mini\\lib\\site-packages\\keras\\utils\\traceback_utils.py\u001b[0m in \u001b[0;36merror_handler\u001b[1;34m(*args, **kwargs)\u001b[0m\n\u001b[0;32m     62\u001b[0m     \u001b[0mfiltered_tb\u001b[0m \u001b[1;33m=\u001b[0m \u001b[1;32mNone\u001b[0m\u001b[1;33m\u001b[0m\u001b[1;33m\u001b[0m\u001b[0m\n\u001b[0;32m     63\u001b[0m     \u001b[1;32mtry\u001b[0m\u001b[1;33m:\u001b[0m\u001b[1;33m\u001b[0m\u001b[1;33m\u001b[0m\u001b[0m\n\u001b[1;32m---> 64\u001b[1;33m       \u001b[1;32mreturn\u001b[0m \u001b[0mfn\u001b[0m\u001b[1;33m(\u001b[0m\u001b[1;33m*\u001b[0m\u001b[0margs\u001b[0m\u001b[1;33m,\u001b[0m \u001b[1;33m**\u001b[0m\u001b[0mkwargs\u001b[0m\u001b[1;33m)\u001b[0m\u001b[1;33m\u001b[0m\u001b[1;33m\u001b[0m\u001b[0m\n\u001b[0m\u001b[0;32m     65\u001b[0m     \u001b[1;32mexcept\u001b[0m \u001b[0mException\u001b[0m \u001b[1;32mas\u001b[0m \u001b[0me\u001b[0m\u001b[1;33m:\u001b[0m  \u001b[1;31m# pylint: disable=broad-except\u001b[0m\u001b[1;33m\u001b[0m\u001b[1;33m\u001b[0m\u001b[0m\n\u001b[0;32m     66\u001b[0m       \u001b[0mfiltered_tb\u001b[0m \u001b[1;33m=\u001b[0m \u001b[0m_process_traceback_frames\u001b[0m\u001b[1;33m(\u001b[0m\u001b[0me\u001b[0m\u001b[1;33m.\u001b[0m\u001b[0m__traceback__\u001b[0m\u001b[1;33m)\u001b[0m\u001b[1;33m\u001b[0m\u001b[1;33m\u001b[0m\u001b[0m\n",
      "\u001b[1;32m~\\miniconda3\\envs\\mini\\lib\\site-packages\\keras\\engine\\training.py\u001b[0m in \u001b[0;36mevaluate\u001b[1;34m(self, x, y, batch_size, verbose, sample_weight, steps, callbacks, max_queue_size, workers, use_multiprocessing, return_dict, **kwargs)\u001b[0m\n\u001b[0;32m   1714\u001b[0m             \u001b[1;32mwith\u001b[0m \u001b[0mtf\u001b[0m\u001b[1;33m.\u001b[0m\u001b[0mprofiler\u001b[0m\u001b[1;33m.\u001b[0m\u001b[0mexperimental\u001b[0m\u001b[1;33m.\u001b[0m\u001b[0mTrace\u001b[0m\u001b[1;33m(\u001b[0m\u001b[1;34m'test'\u001b[0m\u001b[1;33m,\u001b[0m \u001b[0mstep_num\u001b[0m\u001b[1;33m=\u001b[0m\u001b[0mstep\u001b[0m\u001b[1;33m,\u001b[0m \u001b[0m_r\u001b[0m\u001b[1;33m=\u001b[0m\u001b[1;36m1\u001b[0m\u001b[1;33m)\u001b[0m\u001b[1;33m:\u001b[0m\u001b[1;33m\u001b[0m\u001b[1;33m\u001b[0m\u001b[0m\n\u001b[0;32m   1715\u001b[0m               \u001b[0mcallbacks\u001b[0m\u001b[1;33m.\u001b[0m\u001b[0mon_test_batch_begin\u001b[0m\u001b[1;33m(\u001b[0m\u001b[0mstep\u001b[0m\u001b[1;33m)\u001b[0m\u001b[1;33m\u001b[0m\u001b[1;33m\u001b[0m\u001b[0m\n\u001b[1;32m-> 1716\u001b[1;33m               \u001b[0mtmp_logs\u001b[0m \u001b[1;33m=\u001b[0m \u001b[0mself\u001b[0m\u001b[1;33m.\u001b[0m\u001b[0mtest_function\u001b[0m\u001b[1;33m(\u001b[0m\u001b[0miterator\u001b[0m\u001b[1;33m)\u001b[0m\u001b[1;33m\u001b[0m\u001b[1;33m\u001b[0m\u001b[0m\n\u001b[0m\u001b[0;32m   1717\u001b[0m               \u001b[1;32mif\u001b[0m \u001b[0mdata_handler\u001b[0m\u001b[1;33m.\u001b[0m\u001b[0mshould_sync\u001b[0m\u001b[1;33m:\u001b[0m\u001b[1;33m\u001b[0m\u001b[1;33m\u001b[0m\u001b[0m\n\u001b[0;32m   1718\u001b[0m                 \u001b[0mcontext\u001b[0m\u001b[1;33m.\u001b[0m\u001b[0masync_wait\u001b[0m\u001b[1;33m(\u001b[0m\u001b[1;33m)\u001b[0m\u001b[1;33m\u001b[0m\u001b[1;33m\u001b[0m\u001b[0m\n",
      "\u001b[1;32m~\\miniconda3\\envs\\mini\\lib\\site-packages\\tensorflow\\python\\util\\traceback_utils.py\u001b[0m in \u001b[0;36merror_handler\u001b[1;34m(*args, **kwargs)\u001b[0m\n\u001b[0;32m    148\u001b[0m     \u001b[0mfiltered_tb\u001b[0m \u001b[1;33m=\u001b[0m \u001b[1;32mNone\u001b[0m\u001b[1;33m\u001b[0m\u001b[1;33m\u001b[0m\u001b[0m\n\u001b[0;32m    149\u001b[0m     \u001b[1;32mtry\u001b[0m\u001b[1;33m:\u001b[0m\u001b[1;33m\u001b[0m\u001b[1;33m\u001b[0m\u001b[0m\n\u001b[1;32m--> 150\u001b[1;33m       \u001b[1;32mreturn\u001b[0m \u001b[0mfn\u001b[0m\u001b[1;33m(\u001b[0m\u001b[1;33m*\u001b[0m\u001b[0margs\u001b[0m\u001b[1;33m,\u001b[0m \u001b[1;33m**\u001b[0m\u001b[0mkwargs\u001b[0m\u001b[1;33m)\u001b[0m\u001b[1;33m\u001b[0m\u001b[1;33m\u001b[0m\u001b[0m\n\u001b[0m\u001b[0;32m    151\u001b[0m     \u001b[1;32mexcept\u001b[0m \u001b[0mException\u001b[0m \u001b[1;32mas\u001b[0m \u001b[0me\u001b[0m\u001b[1;33m:\u001b[0m\u001b[1;33m\u001b[0m\u001b[1;33m\u001b[0m\u001b[0m\n\u001b[0;32m    152\u001b[0m       \u001b[0mfiltered_tb\u001b[0m \u001b[1;33m=\u001b[0m \u001b[0m_process_traceback_frames\u001b[0m\u001b[1;33m(\u001b[0m\u001b[0me\u001b[0m\u001b[1;33m.\u001b[0m\u001b[0m__traceback__\u001b[0m\u001b[1;33m)\u001b[0m\u001b[1;33m\u001b[0m\u001b[1;33m\u001b[0m\u001b[0m\n",
      "\u001b[1;32m~\\miniconda3\\envs\\mini\\lib\\site-packages\\tensorflow\\python\\eager\\def_function.py\u001b[0m in \u001b[0;36m__call__\u001b[1;34m(self, *args, **kwds)\u001b[0m\n\u001b[0;32m    913\u001b[0m \u001b[1;33m\u001b[0m\u001b[0m\n\u001b[0;32m    914\u001b[0m       \u001b[1;32mwith\u001b[0m \u001b[0mOptionalXlaContext\u001b[0m\u001b[1;33m(\u001b[0m\u001b[0mself\u001b[0m\u001b[1;33m.\u001b[0m\u001b[0m_jit_compile\u001b[0m\u001b[1;33m)\u001b[0m\u001b[1;33m:\u001b[0m\u001b[1;33m\u001b[0m\u001b[1;33m\u001b[0m\u001b[0m\n\u001b[1;32m--> 915\u001b[1;33m         \u001b[0mresult\u001b[0m \u001b[1;33m=\u001b[0m \u001b[0mself\u001b[0m\u001b[1;33m.\u001b[0m\u001b[0m_call\u001b[0m\u001b[1;33m(\u001b[0m\u001b[1;33m*\u001b[0m\u001b[0margs\u001b[0m\u001b[1;33m,\u001b[0m \u001b[1;33m**\u001b[0m\u001b[0mkwds\u001b[0m\u001b[1;33m)\u001b[0m\u001b[1;33m\u001b[0m\u001b[1;33m\u001b[0m\u001b[0m\n\u001b[0m\u001b[0;32m    916\u001b[0m \u001b[1;33m\u001b[0m\u001b[0m\n\u001b[0;32m    917\u001b[0m       \u001b[0mnew_tracing_count\u001b[0m \u001b[1;33m=\u001b[0m \u001b[0mself\u001b[0m\u001b[1;33m.\u001b[0m\u001b[0mexperimental_get_tracing_count\u001b[0m\u001b[1;33m(\u001b[0m\u001b[1;33m)\u001b[0m\u001b[1;33m\u001b[0m\u001b[1;33m\u001b[0m\u001b[0m\n",
      "\u001b[1;32m~\\miniconda3\\envs\\mini\\lib\\site-packages\\tensorflow\\python\\eager\\def_function.py\u001b[0m in \u001b[0;36m_call\u001b[1;34m(self, *args, **kwds)\u001b[0m\n\u001b[0;32m    984\u001b[0m               *args, **kwds)\n\u001b[0;32m    985\u001b[0m       \u001b[1;31m# If we did not create any variables the trace we have is good enough.\u001b[0m\u001b[1;33m\u001b[0m\u001b[1;33m\u001b[0m\u001b[1;33m\u001b[0m\u001b[0m\n\u001b[1;32m--> 986\u001b[1;33m       return self._concrete_stateful_fn._call_flat(\n\u001b[0m\u001b[0;32m    987\u001b[0m           filtered_flat_args, self._concrete_stateful_fn.captured_inputs)  # pylint: disable=protected-access\n\u001b[0;32m    988\u001b[0m \u001b[1;33m\u001b[0m\u001b[0m\n",
      "\u001b[1;32m~\\miniconda3\\envs\\mini\\lib\\site-packages\\tensorflow\\python\\eager\\function.py\u001b[0m in \u001b[0;36m_call_flat\u001b[1;34m(self, args, captured_inputs, cancellation_manager)\u001b[0m\n\u001b[0;32m   1851\u001b[0m         and executing_eagerly):\n\u001b[0;32m   1852\u001b[0m       \u001b[1;31m# No tape is watching; skip to running the function.\u001b[0m\u001b[1;33m\u001b[0m\u001b[1;33m\u001b[0m\u001b[1;33m\u001b[0m\u001b[0m\n\u001b[1;32m-> 1853\u001b[1;33m       return self._build_call_outputs(self._inference_function.call(\n\u001b[0m\u001b[0;32m   1854\u001b[0m           ctx, args, cancellation_manager=cancellation_manager))\n\u001b[0;32m   1855\u001b[0m     forward_backward = self._select_forward_and_backward_functions(\n",
      "\u001b[1;32m~\\miniconda3\\envs\\mini\\lib\\site-packages\\tensorflow\\python\\eager\\function.py\u001b[0m in \u001b[0;36mcall\u001b[1;34m(self, ctx, args, cancellation_manager)\u001b[0m\n\u001b[0;32m    497\u001b[0m       \u001b[1;32mwith\u001b[0m \u001b[0m_InterpolateFunctionError\u001b[0m\u001b[1;33m(\u001b[0m\u001b[0mself\u001b[0m\u001b[1;33m)\u001b[0m\u001b[1;33m:\u001b[0m\u001b[1;33m\u001b[0m\u001b[1;33m\u001b[0m\u001b[0m\n\u001b[0;32m    498\u001b[0m         \u001b[1;32mif\u001b[0m \u001b[0mcancellation_manager\u001b[0m \u001b[1;32mis\u001b[0m \u001b[1;32mNone\u001b[0m\u001b[1;33m:\u001b[0m\u001b[1;33m\u001b[0m\u001b[1;33m\u001b[0m\u001b[0m\n\u001b[1;32m--> 499\u001b[1;33m           outputs = execute.execute(\n\u001b[0m\u001b[0;32m    500\u001b[0m               \u001b[0mstr\u001b[0m\u001b[1;33m(\u001b[0m\u001b[0mself\u001b[0m\u001b[1;33m.\u001b[0m\u001b[0msignature\u001b[0m\u001b[1;33m.\u001b[0m\u001b[0mname\u001b[0m\u001b[1;33m)\u001b[0m\u001b[1;33m,\u001b[0m\u001b[1;33m\u001b[0m\u001b[1;33m\u001b[0m\u001b[0m\n\u001b[0;32m    501\u001b[0m               \u001b[0mnum_outputs\u001b[0m\u001b[1;33m=\u001b[0m\u001b[0mself\u001b[0m\u001b[1;33m.\u001b[0m\u001b[0m_num_outputs\u001b[0m\u001b[1;33m,\u001b[0m\u001b[1;33m\u001b[0m\u001b[1;33m\u001b[0m\u001b[0m\n",
      "\u001b[1;32m~\\miniconda3\\envs\\mini\\lib\\site-packages\\tensorflow\\python\\eager\\execute.py\u001b[0m in \u001b[0;36mquick_execute\u001b[1;34m(op_name, num_outputs, inputs, attrs, ctx, name)\u001b[0m\n\u001b[0;32m     52\u001b[0m   \u001b[1;32mtry\u001b[0m\u001b[1;33m:\u001b[0m\u001b[1;33m\u001b[0m\u001b[1;33m\u001b[0m\u001b[0m\n\u001b[0;32m     53\u001b[0m     \u001b[0mctx\u001b[0m\u001b[1;33m.\u001b[0m\u001b[0mensure_initialized\u001b[0m\u001b[1;33m(\u001b[0m\u001b[1;33m)\u001b[0m\u001b[1;33m\u001b[0m\u001b[1;33m\u001b[0m\u001b[0m\n\u001b[1;32m---> 54\u001b[1;33m     tensors = pywrap_tfe.TFE_Py_Execute(ctx._handle, device_name, op_name,\n\u001b[0m\u001b[0;32m     55\u001b[0m                                         inputs, attrs, num_outputs)\n\u001b[0;32m     56\u001b[0m   \u001b[1;32mexcept\u001b[0m \u001b[0mcore\u001b[0m\u001b[1;33m.\u001b[0m\u001b[0m_NotOkStatusException\u001b[0m \u001b[1;32mas\u001b[0m \u001b[0me\u001b[0m\u001b[1;33m:\u001b[0m\u001b[1;33m\u001b[0m\u001b[1;33m\u001b[0m\u001b[0m\n",
      "\u001b[1;31mKeyboardInterrupt\u001b[0m: "
     ]
    }
   ],
   "source": [
    "config = [[False], [False], [True], [200, 32], [32, 200, 32], [0.2]]  \n",
    "\n",
    "# list of lists --> [[first_additional_layer], [second_additional_layer], [third_additional_layer], [n_neurons], [n_batch_size], [dropout]]\n",
    "\n",
    "hist = LSTM_HyperParameter_Tuning(config, X_train, y_train, X_test, tests)  # change x_train shape"
   ]
  },
  {
   "cell_type": "code",
   "execution_count": null,
   "id": "3cbb3271",
   "metadata": {},
   "outputs": [],
   "source": [
    "hist = pd.DataFrame(hist)\n",
    "hist = hist.sort_values(by=[7], ascending=True)\n",
    "hist"
   ]
  },
  {
   "cell_type": "code",
   "execution_count": null,
   "id": "089a41d1",
   "metadata": {},
   "outputs": [],
   "source": [
    "print(f'Best Combination: \\n first_additional_layer = {hist.iloc[0, 0]}\\n second_additional_layer = {hist.iloc[0, 1]}\\n third_additional_layer = {hist.iloc[0, 2]}\\n n_neurons = {hist.iloc[0, 3]}\\n n_batch_size = {hist.iloc[0, 4]}\\n dropout = {hist.iloc[0, 5]}')\n",
    "print('**************************')\n",
    "#print(f'Results Before Tuning:\\n Test Set RMSE: {np.round(rmse, 4)[1]}\\n')\n",
    "print(f'Results After Tunning:\\n Test Set RMSE: {np.round(hist.iloc[0, -1], 4)[1]}\\n')\n",
    "#print(f'{np.round((results[1] - hist.iloc[0, -1][1])*100/np.round(rmse, 4)[1])}% Improvement')"
   ]
  },
  {
   "cell_type": "code",
   "execution_count": null,
   "id": "1c027e9a",
   "metadata": {},
   "outputs": [],
   "source": [
    "first_additional_layer, second_additional_layer, third_additional_layer, n_neurons, n_batch_size, dropout = list(hist.iloc[0, :-2])"
   ]
  },
  {
   "cell_type": "code",
   "execution_count": null,
   "id": "e2e62b93",
   "metadata": {},
   "outputs": [],
   "source": [
    "regressor = Sequential()\n",
    "regressor.add(LSTM(units=n_neurons, return_sequences=True, input_shape=(X_train.shape[1], X_train.shape[2])))\n",
    "regressor.add(Dropout(dropout))\n",
    "\n",
    "if first_additional_layer:\n",
    "    regressor.add(LSTM(units=n_neurons, return_sequences=True))\n",
    "    regressor.add(Dropout(dropout))\n",
    "\n",
    "if second_additional_layer:\n",
    "    regressor.add(LSTM(units=n_neurons, return_sequences=True))\n",
    "    regressor.add(Dropout(dropout))\n",
    "\n",
    "if third_additional_layer:\n",
    "    regressor.add(GRU(units=n_neurons, return_sequences=True))\n",
    "    regressor.add(Dropout(dropout))\n",
    "\n",
    "regressor.add(LSTM(units=n_neurons, return_sequences=False))\n",
    "regressor.add(Dropout(dropout))\n",
    "regressor.add(Dense(units=1, activation='linear'))\n",
    "regressor.compile(optimizer='adam', loss='mse')\n",
    "\n",
    "es = EarlyStopping(monitor='val_loss', mode='min', verbose=1, patience=5)\n",
    "\n",
    "file_path = 'best_model.h5'\n",
    "\n",
    "mc = ModelCheckpoint(file_path, monitor='val_loss', mode='min', verbose=1, save_best_only=True)\n",
    "\n",
    "regressor.fit(X_train, y_train, validation_split=0.4, epochs=40, batch_size=n_batch_size, callbacks=[es, mc], verbose=0)"
   ]
  },
  {
   "cell_type": "code",
   "execution_count": null,
   "id": "e4802c06",
   "metadata": {},
   "outputs": [],
   "source": [
    "regressor.evaluate(X_test, tests)"
   ]
  },
  {
   "cell_type": "code",
   "execution_count": null,
   "id": "d5b6eb13",
   "metadata": {},
   "outputs": [],
   "source": [
    "y_pred = regressor.predict(X_test)\n",
    "\n",
    "#plt.figure(figsize=(16,8), dpi= 100, facecolor='w', edgecolor='k')\n",
    "\n",
    "plt.plot(tests, color='red')\n",
    "plt.plot(y_pred, color='green')\n",
    "#plt.legend(loc='best')"
   ]
  },
  {
   "cell_type": "code",
   "execution_count": null,
   "id": "9ea55e6c",
   "metadata": {},
   "outputs": [],
   "source": []
  }
 ],
 "metadata": {
  "kernelspec": {
   "display_name": "Python 3 (ipykernel)",
   "language": "python",
   "name": "python3"
  },
  "language_info": {
   "codemirror_mode": {
    "name": "ipython",
    "version": 3
   },
   "file_extension": ".py",
   "mimetype": "text/x-python",
   "name": "python",
   "nbconvert_exporter": "python",
   "pygments_lexer": "ipython3",
   "version": "3.8.13"
  },
  "papermill": {
   "default_parameters": {},
   "duration": 274.33584,
   "end_time": "2021-07-22T04:49:24.036616",
   "environment_variables": {},
   "exception": null,
   "input_path": "__notebook__.ipynb",
   "output_path": "__notebook__.ipynb",
   "parameters": {},
   "start_time": "2021-07-22T04:44:49.700776",
   "version": "2.3.3"
  }
 },
 "nbformat": 4,
 "nbformat_minor": 5
}
